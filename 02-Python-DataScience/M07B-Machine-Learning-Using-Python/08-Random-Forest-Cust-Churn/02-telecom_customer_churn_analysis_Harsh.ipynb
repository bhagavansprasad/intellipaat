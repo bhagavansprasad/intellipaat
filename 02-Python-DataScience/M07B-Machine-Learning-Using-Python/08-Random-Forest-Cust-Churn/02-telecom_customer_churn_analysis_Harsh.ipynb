{
  "cells": [
    {
      "cell_type": "markdown",
      "id": "b8328bee",
      "metadata": {
        "id": "b8328bee",
        "papermill": {
          "duration": 0.018947,
          "end_time": "2022-12-20T11:08:12.265315",
          "exception": false,
          "start_time": "2022-12-20T11:08:12.246368",
          "status": "completed"
        },
        "tags": []
      },
      "source": [
        "# <p style=\"padding:10px;background-color:#e0301e;margin:0;color:#FFFFFF;font-family:newtimeroman;text-align:center;border-radius:8px;overflow:hidden;font-weight:500;font-size:28px;\">📈 CUSTOMER CHURN PREDICTION 📉</p>\n"
      ]
    },
    {
      "cell_type": "markdown",
      "id": "dae4cde9",
      "metadata": {
        "execution": {
          "iopub.execute_input": "2021-06-15T12:05:58.426483Z",
          "iopub.status.busy": "2021-06-15T12:05:58.425675Z",
          "iopub.status.idle": "2021-06-15T12:05:58.442351Z",
          "shell.execute_reply": "2021-06-15T12:05:58.440063Z",
          "shell.execute_reply.started": "2021-06-15T12:05:58.42635Z"
        },
        "id": "dae4cde9",
        "papermill": {
          "duration": 0.016966,
          "end_time": "2022-12-20T11:08:12.299424",
          "exception": false,
          "start_time": "2022-12-20T11:08:12.282458",
          "status": "completed"
        },
        "tags": []
      },
      "source": [
        "<center> <img src=\"https://i.ibb.co/5cq4fQz/CHURN-IMAGESS.jpg\" > </center>\n",
        "\n",
        "# <span style=\"font-family:serif; font-size:24px;\">Table of Contents</span>\n",
        "\n",
        "1. [Introduction](#1)\n",
        "    * [What is Customer Churn?](#2)\n",
        "    * [How to address and reduce Customer Churn?](#3)\n",
        "    * [Objectives in this Analysis](#4)\n",
        "2. [Loading libraries and Dataset](#5)\n",
        "3. [Interpreting the Dataset](#6)\n",
        "4. [Data Cleaning](#8)\n",
        "5. [Visualizing the Data](#7)\n",
        "6. [Data Preprocessing](#10)\n",
        "   * [Scaling and Standardizing Numerical Features](#111)\n",
        "7. [Machine Learning Model Evaluations and Predictions](#11)\n",
        "   * [Random Forest](#103)\n",
        "8. [Conclusion](#15)"
      ]
    },
    {
      "cell_type": "markdown",
      "id": "ef3752ff",
      "metadata": {
        "id": "ef3752ff",
        "papermill": {
          "duration": 0.016463,
          "end_time": "2022-12-20T11:08:12.332813",
          "exception": false,
          "start_time": "2022-12-20T11:08:12.316350",
          "status": "completed"
        },
        "tags": []
      },
      "source": [
        "<a id = \"1\" ></a>\n",
        "# <span style=\"font-family:Georgia, serif; font-size:28px;\"> 1. Introduction</span>\n",
        "<a id = \"introduction\" ></a>\n",
        "\n",
        "<a id = \"2\" ></a>\n",
        "<span style=\"font-family:Georgia, serif; font-size:22px;\">Customer Churn</span>\n",
        "<br>\n",
        "<span style=\"font-family:Georgia, serif; font-size:15px;\">\n",
        "Customer churn, also known as customer attrition,is when a customer chooses to stop using products or services of a company. But with each customer who churns, there are usually early indicators or metrics that can have been uncovered with churn analysis.</span>\n",
        "\n",
        "- <span style=\"font-family:Georgia, serif; font-size:15px;\"> For example, The Telecom Industry faces a lot of Churn(With annual churn rate of 15-25%) because the customers can choose from a variety of service providers and actively switch from existing to another.</span>\n",
        "\n",
        "\n",
        "- <span style=\"font-family:Georgia, serif; font-size:15px;\">  While looking at both Business operational insights (e.g. declining repeat purchases, reduced purchase quantity) and Customer experience insights along the customer feedbacks is foundational in order to predict churn. A scenario where a customer who has declined in recent visits and gives a feedback score of 6 of 10 after their latest shopping experience, could have an increased probability of churning.</span>\n",
        "\n",
        "- <span style=\"font-family:Georgia, serif; font-size:15px;\">  Generally in a business perspective it costs more to acquire new customers than it does to retain existing customers. In fact, an increase in customer retention of just 5% can create at least a 25% increase in profit. This is because returning customers will likely spend 60% more on a company's products and services. As a result, the company can spend less on the operating costs of having to acquire new customers by spending time and money on convincing an existing customer to select your company over competitors because they've already made their mind.</span>\n",
        "\n",
        "- <span style=\"font-family:Georgia, serif; font-size:15px;\">  However, if a company could forecast why and which customers are likely to leave ahead of time, it can focus on customer retention efforts only on these \"high risk\" clients. This helps in achieving the goal of expanding its customer base and retrieve more customers loyalty. </span>\n",
        "\n",
        "\n",
        "<a id=\"churn\"></a>\n",
        "<a id = \"3\" ></a>\n",
        "<span style=\"font-family:Georgia, serif; font-size:22px;\">How to address and reduce Customer Churn?</span>\n",
        "\n",
        "\n",
        "<span style=\"font-family:Georgia, serif; font-size:15px;\"> To reduce customer churn, Companies need to predict which customers are at high risk of churn.</span>\n",
        "\n",
        "- <span style=\"font-family:Georgia, serif; font-size:15px;\">  To detect early signs of potential churn, insight generation of customers and their interactions across numerous channels, including store visits, product purchase history, customer service calls, Web-based transactions, and social media interaction. </span>\n",
        "\n",
        "- <span style=\"font-family:Georgia, serif; font-size:15px;\">  By providing solution for churn, businesses can preserve their market position,and also grow and thrive with more customers network, the lower the cost of initiation and the larger the profit.</span>\n",
        "\n",
        "\n",
        "<a id = \"4\" ></a>\n",
        "<span style=\"font-family:Georgia, serif; font-size:22px;\">Objectives in this Analysis</span>\n",
        "<br>\n",
        "<br>\n",
        "<span style=\"font-family:Georgia, serif; font-size:15px;\"> Objective is to find solutions and suggestions for any possible churning </span>\n",
        "- <span style=\"font-family:Georgia, serif; font-size:15px;\">What is the percentage of Customers who are with the active services and Customers who Churn ?\n",
        "    <br>\n",
        "- <span style=\"font-family:Georgia, serif; font-size:15px;\"> Does gender play a role in Customers Churn ?</span>\n",
        "    <br>\n",
        "- <span style=\"font-family:Georgia, serif; font-size:15px;\"> Does the type of service provided leads to more/less Customers Churn?</span>\n",
        "    <br>\n",
        "- <span style=\"font-family:Georgia, serif; font-size:15px;\"> What's the most profitable service types?</span>\n",
        "    <br>\n",
        "- <span style=\"font-family:Georgia, serif; font-size:15px;\"> Profitable features and services by the company? </span>\n",
        "<a id=\"objective\"></a>\n",
        "\n",
        "\n",
        "time for which existing customers are associated with a company\n",
        "\n"
      ]
    },
    {
      "cell_type": "markdown",
      "id": "787f41d5",
      "metadata": {
        "id": "787f41d5",
        "papermill": {
          "duration": 0.016785,
          "end_time": "2022-12-20T11:08:12.367219",
          "exception": false,
          "start_time": "2022-12-20T11:08:12.350434",
          "status": "completed"
        },
        "tags": []
      },
      "source": [
        "___\n",
        "\n",
        "<a id = \"5\" ></a>\n",
        "# <span style=\"font-family:Georgia, serif; font-size:28px;\"> 2. Loading libraries and data</span>\n",
        "<a id=\"loading\"></a>\n",
        "\n",
        "<span style=\"font-family:Georgia, serif; font-size:20px;\"> Basic Imports</span>"
      ]
    },
    {
      "cell_type": "code",
      "execution_count": 1,
      "id": "02fa9fcd",
      "metadata": {
        "_cell_guid": "b1076dfc-b9ad-4769-8c92-a6c4dae69d19",
        "_uuid": "8f2839f25d086af736a60e9eeb907d3b93b6e0e5",
        "execution": {
          "iopub.execute_input": "2022-12-20T11:08:12.405926Z",
          "iopub.status.busy": "2022-12-20T11:08:12.405111Z",
          "iopub.status.idle": "2022-12-20T11:08:14.737643Z",
          "shell.execute_reply": "2022-12-20T11:08:14.736509Z"
        },
        "id": "02fa9fcd",
        "papermill": {
          "duration": 2.355244,
          "end_time": "2022-12-20T11:08:14.740826",
          "exception": false,
          "start_time": "2022-12-20T11:08:12.385582",
          "status": "completed"
        },
        "tags": []
      },
      "outputs": [
        {
          "ename": "ModuleNotFoundError",
          "evalue": "No module named 'plotly'",
          "output_type": "error",
          "traceback": [
            "\u001b[0;31m---------------------------------------------------------------------------\u001b[0m",
            "\u001b[0;31mModuleNotFoundError\u001b[0m                       Traceback (most recent call last)",
            "Cell \u001b[0;32mIn[1], line 5\u001b[0m\n\u001b[1;32m      3\u001b[0m \u001b[38;5;28;01mimport\u001b[39;00m \u001b[38;5;21;01mmatplotlib\u001b[39;00m\u001b[38;5;21;01m.\u001b[39;00m\u001b[38;5;21;01mpyplot\u001b[39;00m \u001b[38;5;28;01mas\u001b[39;00m \u001b[38;5;21;01mplt\u001b[39;00m\n\u001b[1;32m      4\u001b[0m \u001b[38;5;28;01mimport\u001b[39;00m \u001b[38;5;21;01mseaborn\u001b[39;00m \u001b[38;5;28;01mas\u001b[39;00m \u001b[38;5;21;01msns\u001b[39;00m\n\u001b[0;32m----> 5\u001b[0m \u001b[38;5;28;01mimport\u001b[39;00m \u001b[38;5;21;01mplotly\u001b[39;00m\u001b[38;5;21;01m.\u001b[39;00m\u001b[38;5;21;01mexpress\u001b[39;00m \u001b[38;5;28;01mas\u001b[39;00m \u001b[38;5;21;01mpx\u001b[39;00m\n\u001b[1;32m      6\u001b[0m \u001b[38;5;28;01mimport\u001b[39;00m \u001b[38;5;21;01mplotly\u001b[39;00m\u001b[38;5;21;01m.\u001b[39;00m\u001b[38;5;21;01mgraph_objects\u001b[39;00m \u001b[38;5;28;01mas\u001b[39;00m \u001b[38;5;21;01mgo\u001b[39;00m\n\u001b[1;32m      7\u001b[0m \u001b[38;5;28;01mfrom\u001b[39;00m \u001b[38;5;21;01mplotly\u001b[39;00m\u001b[38;5;21;01m.\u001b[39;00m\u001b[38;5;21;01msubplots\u001b[39;00m \u001b[38;5;28;01mimport\u001b[39;00m make_subplots \u001b[38;5;66;03m#visualization\u001b[39;00m\n",
            "\u001b[0;31mModuleNotFoundError\u001b[0m: No module named 'plotly'"
          ]
        }
      ],
      "source": [
        "import pandas as pd #manipulation\n",
        "import numpy as np  #numerical python\n",
        "import matplotlib.pyplot as plt\n",
        "import seaborn as sns\n",
        "import plotly.express as px\n",
        "import plotly.graph_objects as go\n",
        "from plotly.subplots import make_subplots #visualization\n",
        "import warnings\n",
        "warnings.filterwarnings('ignore')"
      ]
    },
    {
      "cell_type": "code",
      "execution_count": null,
      "id": "fb4bd953",
      "metadata": {
        "execution": {
          "iopub.execute_input": "2022-12-20T11:08:14.778232Z",
          "iopub.status.busy": "2022-12-20T11:08:14.777533Z",
          "iopub.status.idle": "2022-12-20T11:08:15.561744Z",
          "shell.execute_reply": "2022-12-20T11:08:15.560706Z"
        },
        "id": "fb4bd953",
        "papermill": {
          "duration": 0.806346,
          "end_time": "2022-12-20T11:08:15.564449",
          "exception": false,
          "start_time": "2022-12-20T11:08:14.758103",
          "status": "completed"
        },
        "tags": []
      },
      "outputs": [],
      "source": [
        "from sklearn.preprocessing import StandardScaler  #for rescaling the data\n",
        "from sklearn.preprocessing import LabelEncoder #encoding\n",
        "from sklearn import metrics\n",
        "#from sklearn.metrics import roc_curve\n",
        "#from sklearn.metrics import recall_score, confusion_matrix, precision_score\n",
        "from sklearn.ensemble import RandomForestClassifier\n",
        "from sklearn.model_selection import train_test_split\n",
        "#from sklearn.metrics import f1_score, accuracy_score, classification_report\n",
        "from sklearn.metrics import*  #if you want to import all the metric use *"
      ]
    },
    {
      "cell_type": "markdown",
      "id": "a94f0fad",
      "metadata": {
        "id": "a94f0fad",
        "papermill": {
          "duration": 0.016364,
          "end_time": "2022-12-20T11:08:15.597611",
          "exception": false,
          "start_time": "2022-12-20T11:08:15.581247",
          "status": "completed"
        },
        "tags": []
      },
      "source": [
        "<span style=\"font-family:Georgia, serif; font-size:20px;\"> Dataset Import</span>"
      ]
    },
    {
      "cell_type": "code",
      "execution_count": null,
      "id": "89c9a2bb",
      "metadata": {
        "execution": {
          "iopub.execute_input": "2022-12-20T11:08:15.632759Z",
          "iopub.status.busy": "2022-12-20T11:08:15.632378Z",
          "iopub.status.idle": "2022-12-20T11:08:15.694719Z",
          "shell.execute_reply": "2022-12-20T11:08:15.693572Z"
        },
        "id": "89c9a2bb",
        "papermill": {
          "duration": 0.083173,
          "end_time": "2022-12-20T11:08:15.697466",
          "exception": false,
          "start_time": "2022-12-20T11:08:15.614293",
          "status": "completed"
        },
        "tags": []
      },
      "outputs": [],
      "source": [
        "#loading data\n",
        "df = pd.read_csv('/content/customer_churn.csv')\n"
      ]
    },
    {
      "cell_type": "markdown",
      "id": "f1dd493c",
      "metadata": {
        "id": "f1dd493c",
        "papermill": {
          "duration": 0.01634,
          "end_time": "2022-12-20T11:08:15.730951",
          "exception": false,
          "start_time": "2022-12-20T11:08:15.714611",
          "status": "completed"
        },
        "tags": []
      },
      "source": [
        "___\n",
        "\n",
        "<a id = \"6\" ></a>\n",
        "# <span style=\"font-family:Georgia, serif; font-size:28px;\"> 3. Interpreting the Dataset</span>\n",
        "<a id = \"Undertanding the data\" ></a>"
      ]
    },
    {
      "cell_type": "code",
      "execution_count": null,
      "id": "c877d7aa",
      "metadata": {
        "colab": {
          "base_uri": "https://localhost:8080/",
          "height": 313
        },
        "execution": {
          "iopub.execute_input": "2022-12-20T11:08:15.766450Z",
          "iopub.status.busy": "2022-12-20T11:08:15.765793Z",
          "iopub.status.idle": "2022-12-20T11:08:15.802528Z",
          "shell.execute_reply": "2022-12-20T11:08:15.801284Z"
        },
        "id": "c877d7aa",
        "outputId": "2fba5647-3371-4b24-862a-e887f2377806",
        "papermill": {
          "duration": 0.057889,
          "end_time": "2022-12-20T11:08:15.805516",
          "exception": false,
          "start_time": "2022-12-20T11:08:15.747627",
          "status": "completed"
        },
        "tags": []
      },
      "outputs": [],
      "source": [
        "df.head()"
      ]
    },
    {
      "cell_type": "markdown",
      "id": "7894ca40",
      "metadata": {
        "id": "7894ca40",
        "papermill": {
          "duration": 0.016933,
          "end_time": "2022-12-20T11:08:15.840861",
          "exception": false,
          "start_time": "2022-12-20T11:08:15.823928",
          "status": "completed"
        },
        "tags": []
      },
      "source": [
        "**So, In this Telecom Company's Data we have,**\n",
        "*  **Churn Column** - *Customers who left recently*\n",
        "\n",
        "* **Services provided by the company to its customer** – *phone, multiple lines, internet, online security, online backup, device protection, tech support, and streaming TV and movies*\n",
        "\n",
        "* **Customer's Information Columns** - *Old/New Customer and their Active Period, contract, payment method, paperless billing, monthly charges, and total charges*\n",
        "\n",
        "* **Customer's Demographic Columns** – *gender, age range, and if they have partners and dependents*"
      ]
    },
    {
      "cell_type": "code",
      "execution_count": null,
      "id": "cc1c8595",
      "metadata": {
        "colab": {
          "base_uri": "https://localhost:8080/"
        },
        "execution": {
          "iopub.execute_input": "2022-12-20T11:08:15.878075Z",
          "iopub.status.busy": "2022-12-20T11:08:15.877444Z",
          "iopub.status.idle": "2022-12-20T11:08:15.884206Z",
          "shell.execute_reply": "2022-12-20T11:08:15.883327Z"
        },
        "id": "cc1c8595",
        "outputId": "e3a252d9-7d81-4b32-ea88-f70d311d61ae",
        "papermill": {
          "duration": 0.027881,
          "end_time": "2022-12-20T11:08:15.886366",
          "exception": false,
          "start_time": "2022-12-20T11:08:15.858485",
          "status": "completed"
        },
        "tags": []
      },
      "outputs": [],
      "source": [
        "df.shape"
      ]
    },
    {
      "cell_type": "code",
      "execution_count": null,
      "id": "ecf2c246",
      "metadata": {
        "colab": {
          "base_uri": "https://localhost:8080/"
        },
        "execution": {
          "iopub.execute_input": "2022-12-20T11:08:15.923173Z",
          "iopub.status.busy": "2022-12-20T11:08:15.922529Z",
          "iopub.status.idle": "2022-12-20T11:08:15.951481Z",
          "shell.execute_reply": "2022-12-20T11:08:15.950219Z"
        },
        "id": "ecf2c246",
        "outputId": "9cdc6875-bde1-4535-e7aa-a589ad075bf3",
        "papermill": {
          "duration": 0.050682,
          "end_time": "2022-12-20T11:08:15.954318",
          "exception": false,
          "start_time": "2022-12-20T11:08:15.903636",
          "status": "completed"
        },
        "tags": []
      },
      "outputs": [],
      "source": [
        "df.info()"
      ]
    },
    {
      "cell_type": "code",
      "execution_count": null,
      "id": "476545cd",
      "metadata": {
        "colab": {
          "base_uri": "https://localhost:8080/",
          "height": 743
        },
        "id": "476545cd",
        "outputId": "be26bf95-b72c-4f8e-ed5c-1e0575083d2f"
      },
      "outputs": [],
      "source": [
        "df.isnull().sum()"
      ]
    },
    {
      "cell_type": "code",
      "execution_count": null,
      "id": "6f9108a7",
      "metadata": {
        "id": "6f9108a7"
      },
      "outputs": [],
      "source": [
        "a=''"
      ]
    },
    {
      "cell_type": "code",
      "execution_count": null,
      "id": "251def1f",
      "metadata": {
        "colab": {
          "base_uri": "https://localhost:8080/"
        },
        "id": "251def1f",
        "outputId": "ac00f78e-1591-4768-999d-2c5ea8d5b55c"
      },
      "outputs": [],
      "source": [
        "type(a)"
      ]
    },
    {
      "cell_type": "code",
      "execution_count": null,
      "id": "q09KYXVDdo_h",
      "metadata": {
        "colab": {
          "base_uri": "https://localhost:8080/"
        },
        "id": "q09KYXVDdo_h",
        "outputId": "ad7c1122-6078-448b-8f67-59714581c18f"
      },
      "outputs": [],
      "source": [
        "id(a)  #unique location"
      ]
    },
    {
      "cell_type": "code",
      "execution_count": null,
      "id": "IOjwGHObduJn",
      "metadata": {
        "colab": {
          "base_uri": "https://localhost:8080/",
          "height": 178
        },
        "id": "IOjwGHObduJn",
        "outputId": "b0c4b579-e884-41d1-c49b-094f3519d2ed"
      },
      "outputs": [],
      "source": [
        "df['Churn'].value_counts()"
      ]
    },
    {
      "cell_type": "code",
      "execution_count": null,
      "id": "01002740",
      "metadata": {
        "colab": {
          "base_uri": "https://localhost:8080/",
          "height": 743
        },
        "execution": {
          "iopub.execute_input": "2022-12-20T11:08:15.991672Z",
          "iopub.status.busy": "2022-12-20T11:08:15.991236Z",
          "iopub.status.idle": "2022-12-20T11:08:16.000640Z",
          "shell.execute_reply": "2022-12-20T11:08:15.999111Z"
        },
        "id": "01002740",
        "outputId": "f13607af-3004-4fe8-ab15-e32f7d1bfbc2",
        "papermill": {
          "duration": 0.031301,
          "end_time": "2022-12-20T11:08:16.003476",
          "exception": false,
          "start_time": "2022-12-20T11:08:15.972175",
          "status": "completed"
        },
        "tags": []
      },
      "outputs": [],
      "source": [
        "df.dtypes"
      ]
    },
    {
      "cell_type": "markdown",
      "id": "ef6f697b",
      "metadata": {
        "id": "ef6f697b",
        "papermill": {
          "duration": 0.017689,
          "end_time": "2022-12-20T11:08:16.038991",
          "exception": false,
          "start_time": "2022-12-20T11:08:16.021302",
          "status": "completed"
        },
        "tags": []
      },
      "source": [
        "***\n",
        "<a id = \"8\" ></a>\n",
        "# <span style=\"font-family:serif; font-size:28px;\"> 4. Data Cleaning </span>\n",
        "<a id = \"8\" ></a>"
      ]
    },
    {
      "cell_type": "code",
      "execution_count": null,
      "id": "r73i5X069KhG",
      "metadata": {
        "colab": {
          "base_uri": "https://localhost:8080/"
        },
        "id": "r73i5X069KhG",
        "outputId": "e9f6080f-5a61-4366-9732-053c55a2d43d"
      },
      "outputs": [],
      "source": [
        "df.duplicated().sum()"
      ]
    },
    {
      "cell_type": "code",
      "execution_count": null,
      "id": "e178331a",
      "metadata": {
        "colab": {
          "base_uri": "https://localhost:8080/",
          "height": 296
        },
        "execution": {
          "iopub.execute_input": "2022-12-20T11:08:16.077292Z",
          "iopub.status.busy": "2022-12-20T11:08:16.076173Z",
          "iopub.status.idle": "2022-12-20T11:08:16.101168Z",
          "shell.execute_reply": "2022-12-20T11:08:16.100190Z"
        },
        "id": "e178331a",
        "outputId": "03dc6b1f-b424-4f8a-e4a1-65a56a6f7f2f",
        "papermill": {
          "duration": 0.04628,
          "end_time": "2022-12-20T11:08:16.103454",
          "exception": false,
          "start_time": "2022-12-20T11:08:16.057174",
          "status": "completed"
        },
        "tags": []
      },
      "outputs": [],
      "source": [
        "#Since, we don't need customerID, We drop the column\n",
        "df = df.drop(['customerID'], axis = 1)\n",
        "df.head()"
      ]
    },
    {
      "cell_type": "code",
      "execution_count": null,
      "id": "9a3a5fe3",
      "metadata": {
        "colab": {
          "base_uri": "https://localhost:8080/",
          "height": 711
        },
        "execution": {
          "iopub.execute_input": "2022-12-20T11:08:16.142493Z",
          "iopub.status.busy": "2022-12-20T11:08:16.141412Z",
          "iopub.status.idle": "2022-12-20T11:08:16.160358Z",
          "shell.execute_reply": "2022-12-20T11:08:16.159453Z"
        },
        "id": "9a3a5fe3",
        "outputId": "d0304cf4-8cbe-447d-c6dc-ae360a109574",
        "papermill": {
          "duration": 0.040629,
          "end_time": "2022-12-20T11:08:16.162514",
          "exception": false,
          "start_time": "2022-12-20T11:08:16.121885",
          "status": "completed"
        },
        "tags": []
      },
      "outputs": [],
      "source": [
        "#Converting Object column to Numerical Column, which is actually holds Numerical data\n",
        "df['TotalCharges'] = pd.to_numeric(df.TotalCharges, errors='coerce')  #error=raise--raised the,ignore=ignore the error,coerce=any black or unusual value he will make NA.\n",
        "df.isnull().sum()"
      ]
    },
    {
      "cell_type": "code",
      "execution_count": null,
      "id": "d305929f",
      "metadata": {
        "colab": {
          "base_uri": "https://localhost:8080/",
          "height": 583
        },
        "execution": {
          "iopub.execute_input": "2022-12-20T11:08:16.201148Z",
          "iopub.status.busy": "2022-12-20T11:08:16.199923Z",
          "iopub.status.idle": "2022-12-20T11:08:16.223493Z",
          "shell.execute_reply": "2022-12-20T11:08:16.222588Z"
        },
        "id": "d305929f",
        "outputId": "729947ab-9df2-47eb-b001-8cbc49673c0d",
        "papermill": {
          "duration": 0.045454,
          "end_time": "2022-12-20T11:08:16.226074",
          "exception": false,
          "start_time": "2022-12-20T11:08:16.180620",
          "status": "completed"
        },
        "tags": []
      },
      "outputs": [],
      "source": [
        "# Fillna with mean values\n",
        "df.fillna(df[\"TotalCharges\"].mean())\n",
        "\n",
        "#or\n",
        "\n",
        "#Removing missing values\n",
        "#df.dropna(inplace = True)"
      ]
    },
    {
      "cell_type": "code",
      "execution_count": null,
      "id": "f180f1aa",
      "metadata": {
        "colab": {
          "base_uri": "https://localhost:8080/"
        },
        "execution": {
          "iopub.execute_input": "2022-12-20T11:08:16.264958Z",
          "iopub.status.busy": "2022-12-20T11:08:16.263936Z",
          "iopub.status.idle": "2022-12-20T11:08:16.277228Z",
          "shell.execute_reply": "2022-12-20T11:08:16.275830Z"
        },
        "id": "f180f1aa",
        "outputId": "27ee2c30-c5f0-44d5-93c6-ca287071a1f7",
        "papermill": {
          "duration": 0.03523,
          "end_time": "2022-12-20T11:08:16.279668",
          "exception": false,
          "start_time": "2022-12-20T11:08:16.244438",
          "status": "completed"
        },
        "tags": []
      },
      "outputs": [],
      "source": [
        "#Removing tenure equal to 0\n",
        "df.drop(labels=df[df['tenure'] == 0].index, axis=0, inplace=True)\n",
        "df[df['tenure'] == 0].index"
      ]
    },
    {
      "cell_type": "code",
      "execution_count": null,
      "id": "ZzjlwuqSj2a9",
      "metadata": {
        "colab": {
          "base_uri": "https://localhost:8080/"
        },
        "id": "ZzjlwuqSj2a9",
        "outputId": "12653986-5f1b-49f8-9534-1820b0c80845"
      },
      "outputs": [],
      "source": [
        "df.shape"
      ]
    },
    {
      "cell_type": "code",
      "execution_count": null,
      "id": "96b56924",
      "metadata": {
        "colab": {
          "base_uri": "https://localhost:8080/",
          "height": 296
        },
        "execution": {
          "iopub.execute_input": "2022-12-20T11:08:16.318474Z",
          "iopub.status.busy": "2022-12-20T11:08:16.318024Z",
          "iopub.status.idle": "2022-12-20T11:08:16.342124Z",
          "shell.execute_reply": "2022-12-20T11:08:16.340975Z"
        },
        "id": "96b56924",
        "outputId": "088963df-83d8-43c3-d0a8-646b8337a3d4",
        "papermill": {
          "duration": 0.046598,
          "end_time": "2022-12-20T11:08:16.344523",
          "exception": false,
          "start_time": "2022-12-20T11:08:16.297925",
          "status": "completed"
        },
        "tags": []
      },
      "outputs": [],
      "source": [
        "#Categorizing Senior Citizen column for encoding\n",
        "df[\"SeniorCitizen\"]= df[\"SeniorCitizen\"].map({0: \"No\", 1: \"Yes\"})  #for making more easy for client\n",
        "df.head()"
      ]
    },
    {
      "cell_type": "code",
      "execution_count": null,
      "id": "EFM9fzmanO25",
      "metadata": {
        "id": "EFM9fzmanO25"
      },
      "outputs": [],
      "source": [
        "#TO CHECK THE details of my numeric data"
      ]
    },
    {
      "cell_type": "code",
      "execution_count": null,
      "id": "70cbb74f",
      "metadata": {
        "colab": {
          "base_uri": "https://localhost:8080/",
          "height": 300
        },
        "execution": {
          "iopub.execute_input": "2022-12-20T11:08:16.383884Z",
          "iopub.status.busy": "2022-12-20T11:08:16.383458Z",
          "iopub.status.idle": "2022-12-20T11:08:16.411310Z",
          "shell.execute_reply": "2022-12-20T11:08:16.410219Z"
        },
        "id": "70cbb74f",
        "outputId": "cbdeb523-3cc2-457a-a607-36700e7c251c",
        "papermill": {
          "duration": 0.050101,
          "end_time": "2022-12-20T11:08:16.413746",
          "exception": false,
          "start_time": "2022-12-20T11:08:16.363645",
          "status": "completed"
        },
        "tags": []
      },
      "outputs": [],
      "source": [
        "#Finding any absurd values in Numeric Columns\n",
        "numerical_cols = ['tenure', 'MonthlyCharges', 'TotalCharges']\n",
        "df[numerical_cols].describe()"
      ]
    },
    {
      "cell_type": "code",
      "execution_count": null,
      "id": "266873ac",
      "metadata": {
        "colab": {
          "base_uri": "https://localhost:8080/",
          "height": 212
        },
        "id": "266873ac",
        "outputId": "9c8cb950-8716-4121-d483-060ac8443acf"
      },
      "outputs": [],
      "source": [
        "df.describe(include='O')"
      ]
    },
    {
      "cell_type": "code",
      "execution_count": null,
      "id": "3e8dec5b",
      "metadata": {
        "colab": {
          "base_uri": "https://localhost:8080/",
          "height": 261
        },
        "execution": {
          "iopub.execute_input": "2022-12-20T11:08:16.453689Z",
          "iopub.status.busy": "2022-12-20T11:08:16.453262Z",
          "iopub.status.idle": "2022-12-20T11:08:16.508574Z",
          "shell.execute_reply": "2022-12-20T11:08:16.507336Z"
        },
        "id": "3e8dec5b",
        "outputId": "9f1e10c5-38d7-4dd9-8886-0888de401ce2",
        "papermill": {
          "duration": 0.077793,
          "end_time": "2022-12-20T11:08:16.510972",
          "exception": false,
          "start_time": "2022-12-20T11:08:16.433179",
          "status": "completed"
        },
        "tags": []
      },
      "outputs": [],
      "source": [
        "#Creating Dataframe for correlation plot\n",
        "df2 = df\n",
        "df2['Churn'].replace(to_replace='Yes', value=1, inplace=True)\n",
        "df2['Churn'].replace(to_replace='No',  value=0, inplace=True)\n",
        "df_dummies = pd.get_dummies(df2) #creating a dummy data alternative of onehot encondiing librarty\n",
        "df_dummies.head()"
      ]
    },
    {
      "cell_type": "code",
      "execution_count": null,
      "id": "781051cb",
      "metadata": {
        "colab": {
          "base_uri": "https://localhost:8080/"
        },
        "execution": {
          "iopub.execute_input": "2022-12-20T11:08:16.552099Z",
          "iopub.status.busy": "2022-12-20T11:08:16.551727Z",
          "iopub.status.idle": "2022-12-20T11:08:17.678757Z",
          "shell.execute_reply": "2022-12-20T11:08:17.677104Z"
        },
        "id": "781051cb",
        "outputId": "6947ed6e-05ba-4de9-e906-9c1293e4b31d",
        "papermill": {
          "duration": 1.151072,
          "end_time": "2022-12-20T11:08:17.681594",
          "exception": false,
          "start_time": "2022-12-20T11:08:16.530522",
          "status": "completed"
        },
        "tags": []
      },
      "outputs": [],
      "source": [
        "#Correlation of \"Churn\" with Features:\n",
        "plt.figure(figsize=(15,8))\n",
        "sns.set(style = 'white')\n",
        "\n",
        "df_dummies.corr()['Churn'].sort_values(ascending = False).plot(kind='bar')"
      ]
    },
    {
      "cell_type": "markdown",
      "id": "9345bad9",
      "metadata": {
        "id": "9345bad9",
        "papermill": {
          "duration": 0.020145,
          "end_time": "2022-12-20T11:08:17.723514",
          "exception": false,
          "start_time": "2022-12-20T11:08:17.703369",
          "status": "completed"
        },
        "tags": []
      },
      "source": [
        "___\n",
        "\n",
        "<a id = \"7\" ></a>\n",
        "# <span style=\"font-family:serif; font-size:28px;\"> 4. Visualizing The Data </span>\n",
        "<a id = \"missingvalue\" ></a>\n",
        "\n",
        "<span style=\"font-family:serif; font-size:23px;\"> Gender Spread and Churn Distribution </span>\n"
      ]
    },
    {
      "cell_type": "code",
      "execution_count": null,
      "id": "lEs5xRxcwIqq",
      "metadata": {
        "colab": {
          "base_uri": "https://localhost:8080/",
          "height": 178
        },
        "id": "lEs5xRxcwIqq",
        "outputId": "12432452-fc3b-468d-e51b-4b6c5ba6f3ac"
      },
      "outputs": [],
      "source": [
        "df['gender'].value_counts()"
      ]
    },
    {
      "cell_type": "code",
      "execution_count": null,
      "id": "Row_VusFs441",
      "metadata": {
        "id": "Row_VusFs441"
      },
      "outputs": [],
      "source": [
        "import pandas as pd\n"
      ]
    },
    {
      "cell_type": "code",
      "execution_count": null,
      "id": "2rGniaoctBJ7",
      "metadata": {
        "colab": {
          "base_uri": "https://localhost:8080/"
        },
        "id": "2rGniaoctBJ7",
        "outputId": "ffc7d04b-936c-4f90-bea0-97795380e39f"
      },
      "outputs": [],
      "source": [
        "!pip install sweetviz"
      ]
    },
    {
      "cell_type": "code",
      "execution_count": null,
      "id": "1_NcsdyCtDsS",
      "metadata": {
        "id": "1_NcsdyCtDsS"
      },
      "outputs": [],
      "source": [
        "import sweetviz as sv"
      ]
    },
    {
      "cell_type": "code",
      "execution_count": null,
      "id": "oDVJU0ictD22",
      "metadata": {
        "id": "oDVJU0ictD22"
      },
      "outputs": [],
      "source": [
        "#df = pd.read_csv('/content/customer_churn.csv')"
      ]
    },
    {
      "cell_type": "code",
      "execution_count": null,
      "id": "UiWlXXyltD5c",
      "metadata": {
        "colab": {
          "base_uri": "https://localhost:8080/",
          "height": 66,
          "referenced_widgets": [
            "a2b96d79c5f84022823d65d1ca57187a",
            "61318ee1497340af8e7479b16dc9a2e3",
            "0cd3e8f0d32243ffb41d1985fb76f5a1",
            "a9699d0d52c24501a184acdda432a317",
            "f6795995ef5246078f5e24e03ac3e02b",
            "d8cf10cc35ed4791b11aba00218eb6f9",
            "29e3e081b41e4716affb1a530576ab22",
            "eae8f01e24b447fc931c0439388b5f1b",
            "0eacb8ea023b4daa9675bc44a1f4a557",
            "51f65e440398443295e57c7a14ff8e0b",
            "f20f6f25abe549709f50aec10f0a5c77"
          ]
        },
        "id": "UiWlXXyltD5c",
        "outputId": "7cca733d-4e15-40b3-86d0-1f6638c2fb3b"
      },
      "outputs": [],
      "source": [
        "report = sv.analyze(df)\n",
        "report.show_html('harsh_report.html')"
      ]
    },
    {
      "cell_type": "code",
      "execution_count": null,
      "id": "_UTnTHbEtMD_",
      "metadata": {
        "colab": {
          "base_uri": "https://localhost:8080/"
        },
        "id": "_UTnTHbEtMD_",
        "outputId": "d6fe3012-882f-4d27-c96a-b66e9fd14e1e"
      },
      "outputs": [],
      "source": [
        "!pip install autoviz"
      ]
    },
    {
      "cell_type": "code",
      "execution_count": null,
      "id": "g13gzCIttMLp",
      "metadata": {
        "colab": {
          "base_uri": "https://localhost:8080/"
        },
        "id": "g13gzCIttMLp",
        "outputId": "16b69f85-e25f-43f8-beb8-ad22d404536e"
      },
      "outputs": [],
      "source": [
        "from autoviz.AutoViz_Class import AutoViz_Class"
      ]
    },
    {
      "cell_type": "code",
      "execution_count": null,
      "id": "ciyXRrLxtMOO",
      "metadata": {
        "colab": {
          "base_uri": "https://localhost:8080/",
          "height": 1000
        },
        "id": "ciyXRrLxtMOO",
        "outputId": "b821d014-dd5a-4a51-c341-872b0fddea44"
      },
      "outputs": [],
      "source": [
        "AV = AutoViz_Class()\n",
        "report = AV.AutoViz(df)"
      ]
    },
    {
      "cell_type": "markdown",
      "id": "2b1b9855",
      "metadata": {
        "id": "2b1b9855",
        "papermill": {
          "duration": 0.027678,
          "end_time": "2022-12-20T11:08:21.010132",
          "exception": false,
          "start_time": "2022-12-20T11:08:20.982454",
          "status": "completed"
        },
        "tags": []
      },
      "source": []
    },
    {
      "cell_type": "code",
      "execution_count": null,
      "id": "df72f0ea",
      "metadata": {
        "execution": {
          "iopub.execute_input": "2022-12-20T11:08:24.304257Z",
          "iopub.status.busy": "2022-12-20T11:08:24.303508Z",
          "iopub.status.idle": "2022-12-20T11:08:24.308491Z",
          "shell.execute_reply": "2022-12-20T11:08:24.307560Z"
        },
        "id": "df72f0ea",
        "papermill": {
          "duration": 0.044148,
          "end_time": "2022-12-20T11:08:24.310670",
          "exception": false,
          "start_time": "2022-12-20T11:08:24.266522",
          "status": "completed"
        },
        "tags": []
      },
      "outputs": [],
      "source": [
        "# Defining a Function to Convert Objects to Int\n",
        "def object_to_int(dataframe_series):\n",
        "    if dataframe_series.dtype=='object':\n",
        "        dataframe_series = LabelEncoder().fit_transform(dataframe_series)\n",
        "    return dataframe_series"
      ]
    },
    {
      "cell_type": "code",
      "execution_count": null,
      "id": "05vJKgkGKEd_",
      "metadata": {
        "colab": {
          "base_uri": "https://localhost:8080/",
          "height": 226
        },
        "id": "05vJKgkGKEd_",
        "outputId": "12fcc8a0-2485-4147-e647-7c2338fa008d"
      },
      "outputs": [],
      "source": [
        "df2 = df\n",
        "df = df.apply(lambda x: object_to_int(x))\n",
        "X = df.drop(columns = ['Churn'])\n",
        "y = df['Churn'].values\n",
        "df.head()"
      ]
    },
    {
      "cell_type": "code",
      "execution_count": null,
      "id": "0b03711e",
      "metadata": {
        "execution": {
          "iopub.execute_input": "2022-12-20T11:08:24.508130Z",
          "iopub.status.busy": "2022-12-20T11:08:24.507684Z",
          "iopub.status.idle": "2022-12-20T11:08:24.516232Z",
          "shell.execute_reply": "2022-12-20T11:08:24.515260Z"
        },
        "id": "0b03711e",
        "papermill": {
          "duration": 0.047884,
          "end_time": "2022-12-20T11:08:24.518697",
          "exception": false,
          "start_time": "2022-12-20T11:08:24.470813",
          "status": "completed"
        },
        "tags": []
      },
      "outputs": [],
      "source": [
        "#X_train, X_test, y_train, y_test = train_test_split(X,y,test_size = 0.30, random_state = 40, stratify=y)\n",
        "\n",
        "X_train, X_test, y_train, y_test = train_test_split(X, y, test_size=0.2, random_state=99)\n"
      ]
    },
    {
      "cell_type": "code",
      "execution_count": null,
      "id": "OUtoq07Sv5id",
      "metadata": {
        "id": "OUtoq07Sv5id"
      },
      "outputs": [],
      "source": [
        "num_cols = ['tenure', 'MonthlyCharges', 'TotalCharges']"
      ]
    },
    {
      "cell_type": "code",
      "execution_count": null,
      "id": "e1a679e7",
      "metadata": {
        "execution": {
          "iopub.execute_input": "2022-12-20T11:08:26.857953Z",
          "iopub.status.busy": "2022-12-20T11:08:26.857514Z",
          "iopub.status.idle": "2022-12-20T11:08:26.872442Z",
          "shell.execute_reply": "2022-12-20T11:08:26.871327Z"
        },
        "id": "e1a679e7",
        "papermill": {
          "duration": 0.056484,
          "end_time": "2022-12-20T11:08:26.874887",
          "exception": false,
          "start_time": "2022-12-20T11:08:26.818403",
          "status": "completed"
        },
        "tags": []
      },
      "outputs": [],
      "source": [
        "#rescaling\n",
        "scaler= StandardScaler()  #zcore\n",
        "\n",
        "X_train[num_cols] = scaler.fit_transform(X_train[num_cols])\n",
        "X_test[num_cols] = scaler.transform(X_test[num_cols])"
      ]
    },
    {
      "cell_type": "code",
      "execution_count": null,
      "id": "Efjr6AT_BsW4",
      "metadata": {
        "colab": {
          "base_uri": "https://localhost:8080/",
          "height": 424
        },
        "id": "Efjr6AT_BsW4",
        "outputId": "73806d84-248e-41be-99c3-6eae7c0f95b1"
      },
      "outputs": [],
      "source": [
        "X_train[num_cols]"
      ]
    },
    {
      "cell_type": "markdown",
      "id": "8cc50762",
      "metadata": {
        "id": "8cc50762",
        "papermill": {
          "duration": 0.03765,
          "end_time": "2022-12-20T11:08:26.950505",
          "exception": false,
          "start_time": "2022-12-20T11:08:26.912855",
          "status": "completed"
        },
        "tags": []
      },
      "source": [
        "<a id = \"11\" ></a>\n",
        "# <span style=\"font-family:serif; font-size:28px;\"> 7.  Machine Learning Model Evaluations and Testing</span>\n",
        "<a id = \"modelprediction\" ></a>\n",
        "<a id = \"102\" ></a>\n"
      ]
    },
    {
      "cell_type": "markdown",
      "id": "36442ca8",
      "metadata": {
        "id": "36442ca8",
        "papermill": {
          "duration": 0.037939,
          "end_time": "2022-12-20T11:08:29.004906",
          "exception": false,
          "start_time": "2022-12-20T11:08:28.966967",
          "status": "completed"
        },
        "tags": []
      },
      "source": [
        "<a id = \"103\" ></a>\n",
        "<span style=\"font-family:serif; font-size:20px;\"> II) RANDOM FOREST CLASSIFIER</span>\n",
        "<a id = \"rf\" ></a>"
      ]
    },
    {
      "cell_type": "code",
      "execution_count": null,
      "id": "cd7a2c08",
      "metadata": {
        "colab": {
          "base_uri": "https://localhost:8080/"
        },
        "execution": {
          "iopub.execute_input": "2022-12-20T11:08:29.083407Z",
          "iopub.status.busy": "2022-12-20T11:08:29.082929Z",
          "iopub.status.idle": "2022-12-20T11:08:34.621462Z",
          "shell.execute_reply": "2022-12-20T11:08:34.620309Z"
        },
        "id": "cd7a2c08",
        "outputId": "42facf2e-9594-4179-8650-e2e4ec81d17b",
        "papermill": {
          "duration": 5.580615,
          "end_time": "2022-12-20T11:08:34.623852",
          "exception": false,
          "start_time": "2022-12-20T11:08:29.043237",
          "status": "completed"
        },
        "tags": []
      },
      "outputs": [],
      "source": [
        "import matplotlib.pyplot as plt\n",
        "import seaborn as sns\n",
        "from sklearn.metrics import classification_report, confusion_matrix, accuracy_score\n",
        "from sklearn.ensemble import RandomForestClassifier\n",
        "import pandas as pd\n",
        "\n",
        "# Assuming df is your DataFrame and 'Churn' is your target variable\n",
        "X = df.drop(columns=['Churn'])\n",
        "y = df['Churn']\n",
        "\n",
        "# Split the data into training and testing sets\n",
        "X_train, X_test, y_train, y_test = train_test_split(X, y, test_size=0.2, random_state=99)\n",
        "\n",
        "# Initialize the RandomForestClassifier with OOB score\n",
        "model_rf = RandomForestClassifier(\n",
        "    n_estimators=1000,\n",
        "    random_state=65,\n",
        "    max_leaf_nodes=35\n",
        ")\n",
        "\n",
        "# Fit the model\n",
        "model_rf.fit(X_train, y_train)\n",
        "\n",
        "# Make predictions\n",
        "prediction_test = model_rf.predict(X_test)\n",
        "\n",
        "# Print accuracy score\n",
        "print(\"Accuracy Score:\", accuracy_score(y_test, prediction_test))\n",
        "print('-' * 60)\n",
        "\n",
        "# Print classification report\n",
        "print(classification_report(y_test, prediction_test))\n",
        "print('-' * 60)\n",
        "\n",
        "# Plot confusion matrix\n",
        "plt.figure(figsize=(8, 6))\n",
        "sns.heatmap(confusion_matrix(y_test, prediction_test), annot=True, fmt=\"d\", linecolor=\"k\", linewidths=3)\n",
        "plt.title(\"Random Forest Confusion Matrix\", fontsize=14)\n",
        "plt.show()\n",
        "print('-' * 60)\n"
      ]
    },
    {
      "cell_type": "code",
      "execution_count": null,
      "id": "h2jOL1AY43BP",
      "metadata": {
        "colab": {
          "base_uri": "https://localhost:8080/"
        },
        "id": "h2jOL1AY43BP",
        "outputId": "c918a6dc-340d-4bca-daa4-7893711b6678"
      },
      "outputs": [],
      "source": [
        "from sklearn.model_selection import cross_val_score\n",
        "from sklearn.ensemble import RandomForestClassifier\n",
        "\n",
        "# Assuming you have your features X and target variable y\n",
        "X = df.drop(columns = ['Churn'])\n",
        "y = df['Churn'].values\n",
        "\n",
        "# Create your model (replace RandomForestClassifier with your desired model)\n",
        "model = RandomForestClassifier()\n",
        "\n",
        "# Perform cross-validation\n",
        "cv_scores = cross_val_score(model, X, y, cv=20)  # 'cv' is the number of folds\n",
        "\n",
        "# Print the cross-validation scores\n",
        "print(\"Cross-Validation Scores:\", cv_scores)\n",
        "print(\"Mean CV Score:\", cv_scores.mean())\n"
      ]
    },
    {
      "cell_type": "markdown",
      "id": "878614ea",
      "metadata": {
        "id": "878614ea",
        "papermill": {
          "duration": 0.04087,
          "end_time": "2022-12-20T11:08:37.659554",
          "exception": false,
          "start_time": "2022-12-20T11:08:37.618684",
          "status": "completed"
        },
        "tags": []
      },
      "source": [
        "<a id = \"15\" ></a>\n",
        "# <span style=\"font-family:serif; font-size:28px;\">Conclusion:</span>\n",
        "<a id = \"modelprediction\" ></a>\n",
        "\n",
        "From the Above models, we can say that the **Random Forest Model** performs much better than the other models.\n",
        "Customer churn economically decreases the company's funds and affects it's profitability.\n",
        "\n",
        "Analysis in Operational Level would help the management to find which departments or services is causing the customer to churn out. Based on identifying the issue, ample of  strategies can be implemented to eliminate customer churn. Identifying customers who are at risk of churning and working to improve their experience and the quality service would help in building customer loyalty."
      ]
    },
    {
      "cell_type": "code",
      "execution_count": null,
      "id": "60fdfea1",
      "metadata": {
        "colab": {
          "base_uri": "https://localhost:8080/",
          "height": 178
        },
        "id": "60fdfea1",
        "outputId": "6aaf14d2-6918-49c1-af43-beedae28db1a"
      },
      "outputs": [],
      "source": [
        "df['Churn'].value_counts()"
      ]
    },
    {
      "cell_type": "code",
      "execution_count": null,
      "id": "y14LKX9lNxHz",
      "metadata": {
        "id": "y14LKX9lNxHz"
      },
      "outputs": [],
      "source": [
        "# Assuming df is your DataFrame and 'Churn' is your target variable\n",
        "X = df.drop(columns=['Churn'])\n",
        "y = df['Churn']\n"
      ]
    },
    {
      "cell_type": "code",
      "execution_count": null,
      "id": "cjI5aY6KNxRn",
      "metadata": {
        "colab": {
          "base_uri": "https://localhost:8080/",
          "height": 178
        },
        "id": "cjI5aY6KNxRn",
        "outputId": "c564c379-6a59-4e4a-a150-1bf8b65b2df1"
      },
      "outputs": [],
      "source": [
        "y.value_counts()"
      ]
    },
    {
      "cell_type": "code",
      "execution_count": null,
      "id": "qCz3i4WVyIV3",
      "metadata": {
        "id": "qCz3i4WVyIV3"
      },
      "outputs": [],
      "source": [
        "from imblearn.over_sampling import SMOTE"
      ]
    },
    {
      "cell_type": "code",
      "execution_count": null,
      "id": "feCuM-KzN8cx",
      "metadata": {
        "id": "feCuM-KzN8cx"
      },
      "outputs": [],
      "source": [
        "# Apply SMOTE to the entire dataset (not recommended, but here for demonstration)\n",
        "smote = SMOTE(random_state=99)\n",
        "X_smote1, y_smote2 = smote.fit_resample(X, y)"
      ]
    },
    {
      "cell_type": "code",
      "execution_count": null,
      "id": "PPxdZKAjOBFT",
      "metadata": {
        "colab": {
          "base_uri": "https://localhost:8080/",
          "height": 178
        },
        "id": "PPxdZKAjOBFT",
        "outputId": "965dbdfb-04d5-43a1-ff51-ce716cb72924"
      },
      "outputs": [],
      "source": [
        "y_smote2.value_counts()"
      ]
    },
    {
      "cell_type": "code",
      "execution_count": null,
      "id": "-54KfXktDsId",
      "metadata": {
        "colab": {
          "base_uri": "https://localhost:8080/"
        },
        "id": "-54KfXktDsId",
        "outputId": "7c0fc3e4-7621-4b45-9bc9-058211e938a0"
      },
      "outputs": [],
      "source": [
        "#implementation of smote and make the data balance\n",
        "import pandas as pd\n",
        "import matplotlib.pyplot as plt\n",
        "import seaborn as sns\n",
        "from sklearn.model_selection import train_test_split\n",
        "from sklearn.preprocessing import StandardScaler\n",
        "from sklearn.ensemble import RandomForestClassifier\n",
        "from sklearn.metrics import classification_report, confusion_matrix, accuracy_score\n",
        "from imblearn.over_sampling import SMOTE\n",
        "\n",
        "# Assuming df is your DataFrame and 'Churn' is your target variable\n",
        "X = df.drop(columns=['Churn'])\n",
        "y = df['Churn']\n",
        "\n",
        "# Apply SMOTE to the entire dataset (not recommended, but here for demonstration)\n",
        "smote = SMOTE(random_state=99)\n",
        "X_smote, y_smote = smote.fit_resample(X, y)\n",
        "\n",
        "# Split the SMOTE-transformed data into training and testing sets\n",
        "X_train, X_test, y_train, y_test = train_test_split(X_smote, y_smote, test_size=0.2, random_state=99)\n",
        "\n",
        "# Scale the features (if necessary)\n",
        "scaler = StandardScaler()\n",
        "num_cols = X_train.select_dtypes(include=['float64', 'int64']).columns\n",
        "X_train[num_cols] = scaler.fit_transform(X_train[num_cols])\n",
        "X_test[num_cols] = scaler.transform(X_test[num_cols])\n",
        "\n",
        "# Initialize the RandomForestClassifier with OOB score\n",
        "model_rf = RandomForestClassifier(\n",
        "    n_estimators=1000,\n",
        "    random_state=65,\n",
        "    max_leaf_nodes=35\n",
        ")\n",
        "\n",
        "# Fit the model with the SMOTE-transformed training set\n",
        "model_rf.fit(X_train, y_train)\n",
        "\n",
        "# Make predictions\n",
        "prediction_test = model_rf.predict(X_test)\n",
        "\n",
        "# Print accuracy score\n",
        "print(\"Accuracy Score:\", accuracy_score(y_test, prediction_test))\n",
        "print('-' * 60)\n",
        "\n",
        "# Print classification report\n",
        "print(classification_report(y_test, prediction_test))\n",
        "print('-' * 60)\n",
        "\n",
        "\n",
        "\n"
      ]
    },
    {
      "cell_type": "code",
      "execution_count": null,
      "id": "Y1d4Y5FlD_h4",
      "metadata": {
        "id": "Y1d4Y5FlD_h4"
      },
      "outputs": [],
      "source": []
    }
  ],
  "metadata": {
    "accelerator": "GPU",
    "colab": {
      "gpuType": "T4",
      "provenance": []
    },
    "kernelspec": {
      "display_name": "Python 3",
      "name": "python3"
    },
    "language_info": {
      "codemirror_mode": {
        "name": "ipython",
        "version": 3
      },
      "file_extension": ".py",
      "mimetype": "text/x-python",
      "name": "python",
      "nbconvert_exporter": "python",
      "pygments_lexer": "ipython3",
      "version": "3.10.12"
    },
    "papermill": {
      "default_parameters": {},
      "duration": 35.282798,
      "end_time": "2022-12-20T11:08:38.724626",
      "environment_variables": {},
      "exception": null,
      "input_path": "__notebook__.ipynb",
      "output_path": "__notebook__.ipynb",
      "parameters": {},
      "start_time": "2022-12-20T11:08:03.441828",
      "version": "2.3.4"
    },
    "widgets": {
      "application/vnd.jupyter.widget-state+json": {
        "0cd3e8f0d32243ffb41d1985fb76f5a1": {
          "model_module": "@jupyter-widgets/controls",
          "model_module_version": "1.5.0",
          "model_name": "FloatProgressModel",
          "state": {
            "_dom_classes": [],
            "_model_module": "@jupyter-widgets/controls",
            "_model_module_version": "1.5.0",
            "_model_name": "FloatProgressModel",
            "_view_count": null,
            "_view_module": "@jupyter-widgets/controls",
            "_view_module_version": "1.5.0",
            "_view_name": "ProgressView",
            "bar_style": "success",
            "description": "",
            "description_tooltip": null,
            "layout": "IPY_MODEL_eae8f01e24b447fc931c0439388b5f1b",
            "max": 1,
            "min": 0,
            "orientation": "horizontal",
            "style": "IPY_MODEL_0eacb8ea023b4daa9675bc44a1f4a557",
            "value": 1
          }
        },
        "0eacb8ea023b4daa9675bc44a1f4a557": {
          "model_module": "@jupyter-widgets/controls",
          "model_module_version": "1.5.0",
          "model_name": "ProgressStyleModel",
          "state": {
            "_model_module": "@jupyter-widgets/controls",
            "_model_module_version": "1.5.0",
            "_model_name": "ProgressStyleModel",
            "_view_count": null,
            "_view_module": "@jupyter-widgets/base",
            "_view_module_version": "1.2.0",
            "_view_name": "StyleView",
            "bar_color": null,
            "description_width": ""
          }
        },
        "29e3e081b41e4716affb1a530576ab22": {
          "model_module": "@jupyter-widgets/controls",
          "model_module_version": "1.5.0",
          "model_name": "DescriptionStyleModel",
          "state": {
            "_model_module": "@jupyter-widgets/controls",
            "_model_module_version": "1.5.0",
            "_model_name": "DescriptionStyleModel",
            "_view_count": null,
            "_view_module": "@jupyter-widgets/base",
            "_view_module_version": "1.2.0",
            "_view_name": "StyleView",
            "description_width": ""
          }
        },
        "51f65e440398443295e57c7a14ff8e0b": {
          "model_module": "@jupyter-widgets/base",
          "model_module_version": "1.2.0",
          "model_name": "LayoutModel",
          "state": {
            "_model_module": "@jupyter-widgets/base",
            "_model_module_version": "1.2.0",
            "_model_name": "LayoutModel",
            "_view_count": null,
            "_view_module": "@jupyter-widgets/base",
            "_view_module_version": "1.2.0",
            "_view_name": "LayoutView",
            "align_content": null,
            "align_items": null,
            "align_self": null,
            "border": null,
            "bottom": null,
            "display": null,
            "flex": null,
            "flex_flow": null,
            "grid_area": null,
            "grid_auto_columns": null,
            "grid_auto_flow": null,
            "grid_auto_rows": null,
            "grid_column": null,
            "grid_gap": null,
            "grid_row": null,
            "grid_template_areas": null,
            "grid_template_columns": null,
            "grid_template_rows": null,
            "height": null,
            "justify_content": null,
            "justify_items": null,
            "left": null,
            "margin": null,
            "max_height": null,
            "max_width": null,
            "min_height": null,
            "min_width": null,
            "object_fit": null,
            "object_position": null,
            "order": null,
            "overflow": null,
            "overflow_x": null,
            "overflow_y": null,
            "padding": null,
            "right": null,
            "top": null,
            "visibility": null,
            "width": null
          }
        },
        "61318ee1497340af8e7479b16dc9a2e3": {
          "model_module": "@jupyter-widgets/controls",
          "model_module_version": "1.5.0",
          "model_name": "HTMLModel",
          "state": {
            "_dom_classes": [],
            "_model_module": "@jupyter-widgets/controls",
            "_model_module_version": "1.5.0",
            "_model_name": "HTMLModel",
            "_view_count": null,
            "_view_module": "@jupyter-widgets/controls",
            "_view_module_version": "1.5.0",
            "_view_name": "HTMLView",
            "description": "",
            "description_tooltip": null,
            "layout": "IPY_MODEL_d8cf10cc35ed4791b11aba00218eb6f9",
            "placeholder": "​",
            "style": "IPY_MODEL_29e3e081b41e4716affb1a530576ab22",
            "value": "Done! Use &#x27;show&#x27; commands to display/save.   "
          }
        },
        "a2b96d79c5f84022823d65d1ca57187a": {
          "model_module": "@jupyter-widgets/controls",
          "model_module_version": "1.5.0",
          "model_name": "HBoxModel",
          "state": {
            "_dom_classes": [],
            "_model_module": "@jupyter-widgets/controls",
            "_model_module_version": "1.5.0",
            "_model_name": "HBoxModel",
            "_view_count": null,
            "_view_module": "@jupyter-widgets/controls",
            "_view_module_version": "1.5.0",
            "_view_name": "HBoxView",
            "box_style": "",
            "children": [
              "IPY_MODEL_61318ee1497340af8e7479b16dc9a2e3",
              "IPY_MODEL_0cd3e8f0d32243ffb41d1985fb76f5a1",
              "IPY_MODEL_a9699d0d52c24501a184acdda432a317"
            ],
            "layout": "IPY_MODEL_f6795995ef5246078f5e24e03ac3e02b"
          }
        },
        "a9699d0d52c24501a184acdda432a317": {
          "model_module": "@jupyter-widgets/controls",
          "model_module_version": "1.5.0",
          "model_name": "HTMLModel",
          "state": {
            "_dom_classes": [],
            "_model_module": "@jupyter-widgets/controls",
            "_model_module_version": "1.5.0",
            "_model_name": "HTMLModel",
            "_view_count": null,
            "_view_module": "@jupyter-widgets/controls",
            "_view_module_version": "1.5.0",
            "_view_name": "HTMLView",
            "description": "",
            "description_tooltip": null,
            "layout": "IPY_MODEL_51f65e440398443295e57c7a14ff8e0b",
            "placeholder": "​",
            "style": "IPY_MODEL_f20f6f25abe549709f50aec10f0a5c77",
            "value": " [100%]   00:03 -&gt; (00:00 left)"
          }
        },
        "d8cf10cc35ed4791b11aba00218eb6f9": {
          "model_module": "@jupyter-widgets/base",
          "model_module_version": "1.2.0",
          "model_name": "LayoutModel",
          "state": {
            "_model_module": "@jupyter-widgets/base",
            "_model_module_version": "1.2.0",
            "_model_name": "LayoutModel",
            "_view_count": null,
            "_view_module": "@jupyter-widgets/base",
            "_view_module_version": "1.2.0",
            "_view_name": "LayoutView",
            "align_content": null,
            "align_items": null,
            "align_self": null,
            "border": null,
            "bottom": null,
            "display": null,
            "flex": null,
            "flex_flow": null,
            "grid_area": null,
            "grid_auto_columns": null,
            "grid_auto_flow": null,
            "grid_auto_rows": null,
            "grid_column": null,
            "grid_gap": null,
            "grid_row": null,
            "grid_template_areas": null,
            "grid_template_columns": null,
            "grid_template_rows": null,
            "height": null,
            "justify_content": null,
            "justify_items": null,
            "left": null,
            "margin": null,
            "max_height": null,
            "max_width": null,
            "min_height": null,
            "min_width": null,
            "object_fit": null,
            "object_position": null,
            "order": null,
            "overflow": null,
            "overflow_x": null,
            "overflow_y": null,
            "padding": null,
            "right": null,
            "top": null,
            "visibility": null,
            "width": null
          }
        },
        "eae8f01e24b447fc931c0439388b5f1b": {
          "model_module": "@jupyter-widgets/base",
          "model_module_version": "1.2.0",
          "model_name": "LayoutModel",
          "state": {
            "_model_module": "@jupyter-widgets/base",
            "_model_module_version": "1.2.0",
            "_model_name": "LayoutModel",
            "_view_count": null,
            "_view_module": "@jupyter-widgets/base",
            "_view_module_version": "1.2.0",
            "_view_name": "LayoutView",
            "align_content": null,
            "align_items": null,
            "align_self": null,
            "border": null,
            "bottom": null,
            "display": null,
            "flex": "2",
            "flex_flow": null,
            "grid_area": null,
            "grid_auto_columns": null,
            "grid_auto_flow": null,
            "grid_auto_rows": null,
            "grid_column": null,
            "grid_gap": null,
            "grid_row": null,
            "grid_template_areas": null,
            "grid_template_columns": null,
            "grid_template_rows": null,
            "height": null,
            "justify_content": null,
            "justify_items": null,
            "left": null,
            "margin": null,
            "max_height": null,
            "max_width": null,
            "min_height": null,
            "min_width": null,
            "object_fit": null,
            "object_position": null,
            "order": null,
            "overflow": null,
            "overflow_x": null,
            "overflow_y": null,
            "padding": null,
            "right": null,
            "top": null,
            "visibility": null,
            "width": null
          }
        },
        "f20f6f25abe549709f50aec10f0a5c77": {
          "model_module": "@jupyter-widgets/controls",
          "model_module_version": "1.5.0",
          "model_name": "DescriptionStyleModel",
          "state": {
            "_model_module": "@jupyter-widgets/controls",
            "_model_module_version": "1.5.0",
            "_model_name": "DescriptionStyleModel",
            "_view_count": null,
            "_view_module": "@jupyter-widgets/base",
            "_view_module_version": "1.2.0",
            "_view_name": "StyleView",
            "description_width": ""
          }
        },
        "f6795995ef5246078f5e24e03ac3e02b": {
          "model_module": "@jupyter-widgets/base",
          "model_module_version": "1.2.0",
          "model_name": "LayoutModel",
          "state": {
            "_model_module": "@jupyter-widgets/base",
            "_model_module_version": "1.2.0",
            "_model_name": "LayoutModel",
            "_view_count": null,
            "_view_module": "@jupyter-widgets/base",
            "_view_module_version": "1.2.0",
            "_view_name": "LayoutView",
            "align_content": null,
            "align_items": null,
            "align_self": null,
            "border": null,
            "bottom": null,
            "display": "inline-flex",
            "flex": null,
            "flex_flow": "row wrap",
            "grid_area": null,
            "grid_auto_columns": null,
            "grid_auto_flow": null,
            "grid_auto_rows": null,
            "grid_column": null,
            "grid_gap": null,
            "grid_row": null,
            "grid_template_areas": null,
            "grid_template_columns": null,
            "grid_template_rows": null,
            "height": null,
            "justify_content": null,
            "justify_items": null,
            "left": null,
            "margin": null,
            "max_height": null,
            "max_width": null,
            "min_height": null,
            "min_width": null,
            "object_fit": null,
            "object_position": null,
            "order": null,
            "overflow": null,
            "overflow_x": null,
            "overflow_y": null,
            "padding": null,
            "right": null,
            "top": null,
            "visibility": null,
            "width": "100%"
          }
        }
      }
    }
  },
  "nbformat": 4,
  "nbformat_minor": 5
}
