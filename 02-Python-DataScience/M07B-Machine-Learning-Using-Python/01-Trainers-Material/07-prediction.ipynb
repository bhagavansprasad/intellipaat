{
 "cells": [
  {
   "cell_type": "code",
   "execution_count": null,
   "metadata": {},
   "outputs": [],
   "source": [
    "import pandas as pd\n",
    "import numpy as np\n",
    "\n",
    "import pandas as p()"
   ]
  },
  {
   "cell_type": "code",
   "execution_count": null,
   "metadata": {},
   "outputs": [],
   "source": [
    "# TODO: FAQs to answer\n",
    "# What columns are considered as training data\n",
    "# What columns are considered as test data?\n",
    "# How to print only Test data Actual-value and Predicted-value?\n",
    "# How to caliculated the error marning for each row of test data?\n",
    "# What is the total error margin for all test data?\n",
    "# What is R2score, how is it calculated?\n",
    "# Is Correlation and variance_inflation_factor is on and the same?\n",
    "# What is the difference between X_train and y_train?\n",
    "# Why shape is not giving number of columns y_train, y_test and y_pred?\n",
    "\n",
    "# TODO: FAQs to answe()"
   ]
  },
  {
   "cell_type": "markdown",
   "metadata": {},
   "source": [
    "machine learning related packages"
   ]
  },
  {
   "cell_type": "code",
   "execution_count": null,
   "metadata": {},
   "outputs": [],
   "source": [
    "from sklearn.linear_model import LinearRegression\n",
    "from sklearn.model_selection import train_test_split\n",
    "from sklearn.metrics import r2_score, mean_squared_error\n",
    "from statsmodels.stats.outliers_influence import variance_inflation_factor\n",
    "from tabulate import tabulate\n",
    "import matplotlib.pyplot as plt\n",
    "import seaborn as sns\n",
    "\n",
    "from sklearn.linear_model import LinearRegressio()"
   ]
  },
  {
   "cell_type": "code",
   "execution_count": null,
   "metadata": {},
   "outputs": [],
   "source": [
    "def calc_variance_inflation_factor(X_train):\n",
    "    vif = pd.DataFrame()\n",
    "    vif['Features'] = X_train.columns\n",
    "    \n",
    "    vif['VIF'] = [variance_inflation_factor(X_train.values, i) for i in range(X_train.shape[1])]\n",
    "    vif['VIF'] = round(vif['VIF'], 2)\n",
    "    \n",
    "    return vif\n",
    "\n",
    "calc_variance_inflation_factor()"
   ]
  },
  {
   "cell_type": "code",
   "execution_count": null,
   "metadata": {},
   "outputs": [],
   "source": [
    "def dump_data(objname, d):\n",
    "    print(f\"========={objname}==============\")\n",
    "    try:\n",
    "        print(f\"shape :{d.shape}\")\n",
    "        print(f\"info  :{d.info()}\")\n",
    "        # print(f\"info  :{d.columns.values}\")\n",
    "        # print(f\"descr :{d.describe()}\")\n",
    "    except:\n",
    "        pass\n",
    "    \n",
    "    # print(d)\n",
    "    print()\n",
    "    \n",
    "def predict_values(data):\n",
    "    X = data.drop(columns='medv')\n",
    "    y = data['medv']\n",
    "    \n",
    "    #   X = all input columns\n",
    "    #   y = ouput columns\n",
    "    X_train, X_test, y_train, y_test = train_test_split(X, y, test_size = 0.2)\n",
    "    \n",
    "    lin_reg = LinearRegression()\n",
    "    lin_reg.fit(X_train, y_train)   #learning process starts here\n",
    "\n",
    "   \n",
    "    y_pred = lin_reg.predict(X_test)\n",
    "    r2score = r2_score(y_test, y_pred)\n",
    "\n",
    "    # dump_data(\"X_train\", X_train) \n",
    "    # dump_data(\"X_test \", X_test) \n",
    "    # dump_data(\"y_train\", y_train) \n",
    "    # dump_data(\"y_test \", y_test) \n",
    "    # dump_data(\"y_pred \", y_pred) \n",
    "\n",
    "    vif = calc_variance_inflation_factor(X_train)\n",
    "\n",
    "    return r2score, vif"
   ]
  },
  {
   "cell_type": "code",
   "execution_count": null,
   "metadata": {},
   "outputs": [],
   "source": [
    "def fill_vfs_results(colnames, nfeatures, viflist):\n",
    "    tdict = {}\n",
    "    \n",
    "    for cn in colnames:\n",
    "        tdict[cn] = viflist[nfeatures[cn]] if cn in nfeatures else 0\n",
    "    \n",
    "    return tdict"
   ]
  },
  {
   "cell_type": "code",
   "execution_count": null,
   "metadata": {},
   "outputs": [],
   "source": [
    "def my_sort_fun(setvalue):\n",
    "    return float(setvalue[1])\n",
    "    \n",
    "def get_max_vif(td):\n",
    "    tlist = list(td.items())\n",
    "    tlist = sorted(tlist, reverse=True, key=my_sort_fun)\n",
    "    return tlist[0][0], tlist[0][1]\n"
   ]
  },
  {
   "cell_type": "code",
   "execution_count": null,
   "metadata": {},
   "outputs": [],
   "source": [
    "def display_fine_tuned_results(vifresults):\n",
    "    header = list(vifresults[0].keys())\n",
    "    header.insert(0, \"Row\")\n",
    "    rows = []\n",
    "    for i, x in enumerate(vifresults, 1):\n",
    "        t = list(x.values())\n",
    "        t.insert(0, i)\n",
    "        rows.append(t)\n",
    "        \n",
    "    print()\n",
    "    print(tabulate(rows, header))\n",
    "    print()\n",
    "    \n",
    "def best_fit_line():\n",
    "    data = pd.read_csv('Boston.csv')\n",
    "    data.drop_duplicates(inplace = True)\n",
    "    \n",
    "    colnames = data.columns.to_list()\n",
    "    colnames.remove('medv')\n",
    "    colnames.append('R2Score')\n",
    "\n",
    "    # sns.pairplot(data)\n",
    "    # plt.show()\n",
    "    vifresults = []\n",
    "    for i in range(0, len(colnames)):\n",
    "        r2score, vif = predict_values(data)\n",
    "        dlist = vif.to_dict('dict')\n",
    "        features = dlist['Features']\n",
    "        features[len(features)] = \"R2Score\"\n",
    "        viflist  = dlist['VIF']\n",
    "        viflist[len(viflist)] = float(r2score)\n",
    "        \n",
    "        nfeatures = dict((v,k) for k,v in features.items())\n",
    "        \n",
    "        # print(f\"features   :{features}\")\n",
    "        # print(f\"nfeatures  :{nfeatures}\")\n",
    "        # print(f\"viflist    :{viflist}\")\n",
    "        td = fill_vfs_results(colnames, nfeatures, viflist)\n",
    "        vifresults.append(td)\n",
    "        \n",
    "        colname, maxvif = get_max_vif(td)\n",
    "        if (maxvif <= 5):\n",
    "            break\n",
    "        \n",
    "        data.drop(columns=colname, inplace=True)\n",
    "    display_fine_tuned_results(vifresults)\n",
    "    \n",
    "def main():\n",
    "    best_fit_line()"
   ]
  },
  {
   "cell_type": "markdown",
   "metadata": {},
   "source": [
    "Can we categorize these steps as normalization?"
   ]
  },
  {
   "cell_type": "markdown",
   "metadata": {},
   "source": [
    "Normalizing data before applying ML algos"
   ]
  },
  {
   "cell_type": "code",
   "execution_count": null,
   "metadata": {},
   "outputs": [],
   "source": [
    "    #1. Datatypes - \n",
    "        # ML algos does not work properly with strings\n",
    "        # Int datatype is always better\n",
    "    #2. Replace null with appropriate values\n",
    "    #3. Remove duplicates\n",
    "# Identify input and output colums\n",
    "#   X = all input columns\n",
    "#   y = ouput columns\n",
    "\n",
    "#1. Datatypes ()"
   ]
  },
  {
   "cell_type": "code",
   "execution_count": null,
   "metadata": {},
   "outputs": [],
   "source": [
    "if (__name__ == '__main__'):\n",
    "    main()"
   ]
  }
 ],
 "metadata": {
  "kernelspec": {
   "display_name": "Python 3",
   "language": "python",
   "name": "python3"
  },
  "language_info": {
   "codemirror_mode": {
    "name": "ipython",
    "version": 3
   },
   "file_extension": ".py",
   "mimetype": "text/x-python",
   "name": "python",
   "nbconvert_exporter": "python",
   "pygments_lexer": "ipython3",
   "version": "3.6.4"
  }
 },
 "nbformat": 4,
 "nbformat_minor": 2
}
