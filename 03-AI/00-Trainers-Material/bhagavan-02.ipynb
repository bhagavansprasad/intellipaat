{
 "cells": [
  {
   "cell_type": "code",
   "execution_count": 97,
   "id": "3e00583b",
   "metadata": {},
   "outputs": [
    {
     "name": "stdout",
     "output_type": "stream",
     "text": [
      "reshape_1 : [[ 0  1  2  3]\n",
      " [ 4  5  6  7]\n",
      " [ 8  9 10 11]]\n",
      "reshape_2 : [[ 0  1  2  3  4  5]\n",
      " [ 6  7  8  9 10 11]]\n",
      "reshape_2 : [[ 0  1  2]\n",
      " [ 3  4  5]\n",
      " [ 6  7  8]\n",
      " [ 9 10 11]]\n"
     ]
    }
   ],
   "source": [
    "#numoy basics\n",
    "\n",
    "import numpy as np\n",
    "\n",
    "arr = np.array([0,1,2,3,4,5,6,7,8,9,10,11])\n",
    "\n",
    "reshape_1 = arr.reshape(3,4)\n",
    "print(f\"reshape_1 : {reshape_1}\")\n",
    "\n",
    "reshape_2 = arr.reshape(2,-1)        #rows -> \n",
    "print(f\"reshape_2 : {reshape_2}\")\n",
    "\n",
    "reshape_2 = arr.reshape(-1,3)         \n",
    "print(f\"reshape_2 : {reshape_2}\")"
   ]
  },
  {
   "cell_type": "code",
   "execution_count": null,
   "id": "9926e2ec",
   "metadata": {},
   "outputs": [],
   "source": [
    "import nltk\n",
    "from nltk.corpus import stopwords\n",
    "from nltk.tokenize import word_tokenize\n",
    "\n",
    "nltk.download(\"punkt\")\n",
    "nltk.download(\"stopwords\")"
   ]
  },
  {
   "cell_type": "code",
   "execution_count": null,
   "id": "87206f41",
   "metadata": {},
   "outputs": [],
   "source": []
  },
  {
   "cell_type": "code",
   "execution_count": null,
   "id": "06fba880",
   "metadata": {},
   "outputs": [],
   "source": []
  },
  {
   "cell_type": "code",
   "execution_count": null,
   "id": "63db6766",
   "metadata": {},
   "outputs": [],
   "source": [
    "text = \"i am taking a simple example of a document here to show how exactly does stopword removal works\""
   ]
  },
  {
   "cell_type": "code",
   "execution_count": null,
   "id": "b2d5e5ac",
   "metadata": {},
   "outputs": [],
   "source": [
    "words = word_tokenize(text)\n",
    "stopwords = set(stopwords.words('english'))\n",
    "\n",
    "filtered_Sent = [word for word in words if word.lower() not in stopwords]"
   ]
  },
  {
   "cell_type": "code",
   "execution_count": null,
   "id": "737af6c0",
   "metadata": {},
   "outputs": [],
   "source": [
    "print(f\"orginal : {words}\")"
   ]
  },
  {
   "cell_type": "code",
   "execution_count": null,
   "id": "287509f6",
   "metadata": {},
   "outputs": [],
   "source": [
    "print(f\"filtered : {filtered_Sent}\")"
   ]
  },
  {
   "cell_type": "code",
   "execution_count": null,
   "id": "aba81a84",
   "metadata": {},
   "outputs": [],
   "source": [
    "Action : Set of all possible actions your agent can take\n",
    "State  : Current situation of the environment (Agent placement)   (safe, not safe, modely safe, very unsafe)\n",
    "Policy : strategy used by the agent or agents to decide what actions are to be \n",
    "    taken based on my initial or current state\n"
   ]
  },
  {
   "cell_type": "code",
   "execution_count": null,
   "id": "8c4db3d0",
   "metadata": {},
   "outputs": [],
   "source": [
    "Machine - Feature eng    - ypourself\n",
    "1) Feature selection - IDdnty the most impo freatures in your data set\n",
    "2) Feature transformation - transformting yourt data in to a iff type\n",
    "3) feature creation/deletion - PCA - dimentionality reduction / LDA  (t-sne,FA, Autoencoders, ICA, ETC)\n",
    "\n",
    "\n",
    "N/S, Ecding, nan,null, Bucketin/binning/ ffm, ffe"
   ]
  },
  {
   "cell_type": "code",
   "execution_count": null,
   "id": "25371c6c",
   "metadata": {},
   "outputs": [],
   "source": [
    "# Deep learning - NO feature eng\n",
    "# # "
   ]
  },
  {
   "cell_type": "code",
   "execution_count": null,
   "id": "c15eea5d",
   "metadata": {},
   "outputs": [],
   "source": [
    "#Deep learning\n"
   ]
  },
  {
   "cell_type": "code",
   "execution_count": null,
   "id": "fac29715",
   "metadata": {},
   "outputs": [],
   "source": [
    "import numpy as np\n",
    "\n",
    "#features \n",
    "X = np.array([7,2,25])\n",
    "actual = 85\n",
    "\n",
    "# X1 = X[0]\n",
    "# X2 = X[1]\n",
    "# X3 = X[2]\n",
    "\n",
    "#this is assigned randonmly but i have written in manually\n",
    "W1, W2 = 0.1,0.16\n",
    "W3, W4 = 0.1,0.5\n",
    "W5, W6 = 0.1, 0.6\n",
    "W7, W8 = 7, 3\n",
    "b1, b2 = -4, -4\n",
    "b3 = 12\n",
    "\n",
    "#Activation function - sigmoid\n",
    "\n",
    "def sigmoid(x):\n",
    "    return 1 / (1 + np.exp(-x))\n",
    "\n",
    "\n",
    "def forward_propogation(X):\n",
    "    #Summation\n",
    "    Z1 = W1 * X[0] + W3 * X[1] + W5 * X[2] + b1\n",
    "    Z2 = W2 * X[0] + W4 * X[1] + W6 * X[2] + b2\n",
    "    \n",
    "    #second step = using activation function\n",
    "    G1 = sigmoid(Z1)\n",
    "    G2 = sigmoid(Z2)\n",
    "    \n",
    "    y_pred = W7 * G1 + W8 * G2 + b3\n",
    "    \n",
    "    return G1, G2, y_pred"
   ]
  },
  {
   "cell_type": "code",
   "execution_count": null,
   "id": "986823ec",
   "metadata": {},
   "outputs": [],
   "source": [
    "G1, G2, y_pred = forward_propogation(X)"
   ]
  },
  {
   "cell_type": "code",
   "execution_count": null,
   "id": "380f50d4",
   "metadata": {},
   "outputs": [],
   "source": [
    "#print \n",
    "print(\"First Layer\")\n",
    "print(f\"Z1 = {W1}*{X[0]} + {W3}*{X[1]} + {W5}*{X[2]} + {b1}\")\n",
    "print(f\"Z1 = {W1 * X[0] + W3 * X[1] + W5 * X[2] + b1}\")\n",
    "print(f\"G1 : {G1}\")\n",
    "print(\"===\"*20)\n",
    "print(f\"Z2 = {W2}*{X[0]} + {W4}*{X[1]} + {W6}*{X[2]} + {b2}\")\n",
    "print(f\"Z2 = {W2 * X[0] + W4 * X[1] + W6 * X[2] + b2}\")\n",
    "print(f\"G2 : {G2}\")\n",
    "print(\"===\"*20)\n",
    "print(\"Final Layer\")\n",
    "print(f\"y_pred : {W7} * G1 + {W8} * G2 + {b3}\")\n",
    "print(f\"y_pred : {W7} * {G1} + {W8} * {G2} + {b3}\")\n",
    "print(f\"y_pred : {y_pred}\")\n",
    "\n",
    "print(\"===\"*20)\n",
    "diff = actual - y_pred\n",
    "print(f\"Actual value : {actual}\")\n",
    "print(f\"Predicted Value : {y_pred}\")\n",
    "print(f\"Cost : {diff}\")"
   ]
  },
  {
   "cell_type": "code",
   "execution_count": null,
   "id": "d44f5346",
   "metadata": {},
   "outputs": [],
   "source": []
  },
  {
   "cell_type": "code",
   "execution_count": null,
   "id": "48005a28",
   "metadata": {},
   "outputs": [],
   "source": [
    "import numpy as np\n",
    "#features \n",
    "X = np.array([7,2,25])\n",
    "actual = 85\n",
    "\n",
    "#this is assigned randonmly but i have written in manually\n",
    "W1, W2 = 0.1,0.16\n",
    "W3, W4 = 0.1,0.5\n",
    "W5, W6 = 0.1, 0.6\n",
    "W7, W8 = 7, 3\n",
    "b1, b2 = -4, -4\n",
    "b3 = 12\n",
    "\n",
    "eta = 0.01 #most used learning rate\n",
    "\n",
    "def sigmoid(x):\n",
    "    return 1 / (1 + np.exp(-x))\n",
    "\n",
    "def sigmoid_derivative(x):\n",
    "    return x * (1 - x)\n",
    "\n",
    "def forward_propogation(X):\n",
    "    #Summation\n",
    "    Z1 = W1 * X[0] + W3 * X[1] + W5 * X[2] + b1\n",
    "    Z2 = W2 * X[0] + W4 * X[1] + W6 * X[2] + b2\n",
    "    \n",
    "    #second step = using activation function\n",
    "    G1 = sigmoid(Z1)\n",
    "    G2 = sigmoid(Z2)\n",
    "    \n",
    "    y_pred = W7 * G1 + W8 * G2 + b3\n",
    "    \n",
    "    return Z1, Z2, G1, G2, y_pred\n",
    "\n",
    "def backward_propogation(X, y, Z1, Z2, G1, G2, y_pred):   \n",
    "    dC_dy_pred = 2 * (y_pred - y)   #y here represents y_act\n",
    "    \n",
    "    dC_dW7 = dC_dy_pred * G1\n",
    "    dC_dW8 = dC_dy_pred * G2\n",
    "    dC_db3 = dC_dy_pred \n",
    "    \n",
    "    dC_dG1 = dC_dy_pred * W7\n",
    "    dC_dG2 = dC_dy_pred * W8\n",
    "    \n",
    "    dC_Z1 = dC_dG1 * sigmoid_derivative(G1)\n",
    "    dC_Z2 = dC_dG2 * sigmoid_derivative(G2)\n",
    "    \n",
    "    dC_dW1 = dC_Z1 * X[0]\n",
    "    dC_dW2 = dC_Z2 * X[0]\n",
    "    dC_dW3 = dC_Z1 * X[1]\n",
    "    dC_dW4 = dC_Z2 * X[1]\n",
    "    dC_dW5 = dC_Z1 * X[2]\n",
    "    dC_dW6 = dC_Z2 * X[2]\n",
    "    dC_db1 = dC_Z1\n",
    "    dC_db2 = dC_Z2\n",
    "    \n",
    "    return dC_dW1, dC_dW2, dC_dW3, dC_dW4, dC_dW5, dC_dW6, dC_dW7, dC_dW8, dC_db1, dC_db2, dC_db3"
   ]
  },
  {
   "cell_type": "code",
   "execution_count": null,
   "id": "c4a3413a",
   "metadata": {},
   "outputs": [],
   "source": [
    "Z1, Z2, G1, G2, y_pred = forward_propogation(X)"
   ]
  },
  {
   "cell_type": "code",
   "execution_count": null,
   "id": "5a635a7f",
   "metadata": {},
   "outputs": [],
   "source": [
    "print(\"Forward propogation\")\n",
    "print(f\"Z1 = {Z1}, || G1 = {G1}\")\n",
    "print(f\"Z2 = {Z2}, || G2 = {G2}\")\n",
    "print(f\"y_pred = {y_pred}\")\n",
    "\n",
    "#Calculate the cost\n",
    "cost = (y_pred - actual) ** 2\n",
    "print(f\"\\n Cost : {cost}\")\n",
    "\n",
    "\n",
    "gradients = backward_propogation(X, actual, Z1, Z2, G1, G2, y_pred)"
   ]
  },
  {
   "cell_type": "code",
   "execution_count": null,
   "id": "de0e0e2d",
   "metadata": {},
   "outputs": [],
   "source": [
    "print(\"\\nBackward Propogation - > gradients i have calculated\")\n",
    "print(f\"dC/dW1: {gradients[0]}\")\n",
    "print(f\"dC/dW2: {gradients[1]}\")\n",
    "print(f\"dC/dW3: {gradients[2]}\")\n",
    "print(f\"dC/dW4: {gradients[3]}\")\n",
    "print(f\"dC/dW5: {gradients[4]}\")\n",
    "print(f\"dC/dW6: {gradients[5]}\")\n",
    "print(f\"dC/dW7: {gradients[6]}\")\n",
    "print(f\"dC/dW8: {gradients[7]}\")\n",
    "print(f\"dC/db1: {gradients[8]}\")\n",
    "print(f\"dC/db2: {gradients[9]}\")\n",
    "print(f\"dC/db3: {gradients[10]}\")"
   ]
  },
  {
   "cell_type": "code",
   "execution_count": null,
   "id": "9ef7ceb5",
   "metadata": {},
   "outputs": [],
   "source": [
    "print(f\"Updating weights and biases\")\n",
    "W1 = W1 - eta * gradients[0]\n",
    "W2 = W2 - eta * gradients[1]\n",
    "W3 = W3 - eta * gradients[2]\n",
    "W4 = W4 - eta * gradients[3]\n",
    "W5 = W5 - eta * gradients[4]\n",
    "W6 = W6 - eta * gradients[5]\n",
    "W7 = W7 - eta * gradients[6]\n",
    "W8 = W8 - eta * gradients[7]\n",
    "b1 = b1 - eta * gradients[8]\n",
    "b2 = b2 - eta * gradients[9]\n",
    "b3 = b3 - eta * gradients[10]"
   ]
  },
  {
   "cell_type": "code",
   "execution_count": null,
   "id": "0572f67b",
   "metadata": {},
   "outputs": [],
   "source": [
    "print(f\"Updated W1 : {W1}\")\n",
    "print(f\"Updated W2 : {W2}\")\n",
    "print(f\"Updated W3 : {W3}\")\n",
    "print(f\"Updated W4 : {W4}\")\n",
    "print(f\"Updated W5 : {W5}\")\n",
    "print(f\"Updated W6 : {W6}\")\n",
    "print(f\"Updated W7 : {W7}\")\n",
    "print(f\"Updated W8 : {W8}\")\n",
    "print(f\"Updated b1 : {b1}\")\n",
    "print(f\"Updated b2 : {b2}\")\n",
    "print(f\"Updated b3 : {b3}\")"
   ]
  },
  {
   "cell_type": "code",
   "execution_count": null,
   "id": "9036591a",
   "metadata": {},
   "outputs": [],
   "source": [
    "# epoch tells us hoew many times the model has cycles through the data\n",
    "# if the epoch size is 25"
   ]
  },
  {
   "cell_type": "code",
   "execution_count": null,
   "id": "c5edf98a",
   "metadata": {},
   "outputs": [],
   "source": [
    "import numpy as np\n",
    "import matplotlib.pyplot as plt\n",
    "import tensorflow as tf"
   ]
  },
  {
   "cell_type": "code",
   "execution_count": null,
   "id": "e5fe83f4",
   "metadata": {},
   "outputs": [],
   "source": [
    "def sigmoid(x):\n",
    "    return 1 / (1 + np.exp(-x))\n",
    "\n",
    "#recitifed linear unit\n",
    "def relu(x):\n",
    "    return np.maximum(0,x)\n",
    "\n",
    "def leaky_relu(x, alpha=0.10):\n",
    "    return np.where(x>0, x, alpha*x)\n",
    "\n",
    "def tanh(x):\n",
    "    return np.tanh(x)\n",
    "\n",
    "x = np.linspace(-10,10,100)\n",
    "\n",
    "plt.figure(figsize=(8,8))\n",
    "\n",
    "plt.subplot(2,2,1)\n",
    "plt.plot(x,sigmoid(x))\n",
    "plt.title(\"Sigmoid\")\n",
    "plt.grid(True)\n",
    "\n",
    "plt.subplot(2,2,2)\n",
    "plt.plot(x,relu(x))\n",
    "plt.title(\"RELU\")\n",
    "plt.grid(True)\n",
    "\n",
    "plt.subplot(2,2,3)\n",
    "plt.plot(x,leaky_relu(x))\n",
    "plt.title(\"leaky Relu\")\n",
    "plt.grid(True)\n",
    "\n",
    "plt.subplot(2,2,4)\n",
    "plt.plot(x,tanh(x))\n",
    "plt.title(\"Tanh\")\n",
    "plt.grid(True)\n",
    "\n",
    "plt.tight_layout()"
   ]
  },
  {
   "cell_type": "code",
   "execution_count": null,
   "id": "4c9a72ca",
   "metadata": {},
   "outputs": [],
   "source": [
    "# name | address |ph | pref\n",
    "# rudra   sjdhjhd 8.    tea\n",
    "# phani.  chennai. 88.  coffe\n",
    "\n",
    "\n",
    "# 7:30 - res -> tea -> address -> wake up!    money (cod)\n",
    "#      plus tip \n",
    "\n",
    "# chAI\n",
    "|\n",
    "Hours_of_Sleep, cups_of_coffee, travel_time    ||. produciveity score"
   ]
  },
  {
   "cell_type": "code",
   "execution_count": null,
   "id": "ae25b911",
   "metadata": {},
   "outputs": [],
   "source": [
    "import pandas as pd"
   ]
  },
  {
   "cell_type": "code",
   "execution_count": null,
   "id": "e5d50254",
   "metadata": {},
   "outputs": [],
   "source": [
    "np.random.seed(10)\n",
    "\n",
    "num_samples = 10000\n",
    "X = np.random.rand(num_samples,3) * np.array([24,10,60])\n",
    "Y = np.random.rand(num_samples) * 100"
   ]
  },
  {
   "cell_type": "code",
   "execution_count": null,
   "id": "49f7cea4",
   "metadata": {},
   "outputs": [],
   "source": [
    "# len(X)"
   ]
  },
  {
   "cell_type": "code",
   "execution_count": null,
   "id": "b48e1b3d",
   "metadata": {},
   "outputs": [],
   "source": [
    "pd.DataFrame(X, columns=[\"hours_of_sleep\",\"cups_of_coffee\",\"travel_time\"]).head(5)"
   ]
  },
  {
   "cell_type": "code",
   "execution_count": null,
   "id": "b9060b24",
   "metadata": {},
   "outputs": [],
   "source": [
    "import numpy as np\n",
    "import tensorflow as tf\n",
    "from tensorflow import keras\n",
    "from tensorflow.keras import layers\n",
    "from sklearn.model_selection import train_test_split\n",
    "import matplotlib.pyplot as plt"
   ]
  },
  {
   "cell_type": "code",
   "execution_count": null,
   "id": "443e1460",
   "metadata": {},
   "outputs": [],
   "source": [
    "def create_custom_model():\n",
    "    #simple input layer (code)\n",
    "    inputs = keras.Input(shape=(3,))\n",
    "    \n",
    "    #First layer with 2 neurons\n",
    "    x = layers.Dense(2, activation=\"sigmoid\")(inputs)\n",
    "    \n",
    "    #output layer\n",
    "    outputs = layers.Dense(1, activation='linear')(x)\n",
    "    \n",
    "    model = keras.Model(inputs=inputs, outputs=outputs)\n",
    "    return model\n",
    "\n",
    "model = create_custom_model()    \n",
    "model.compile(optimizer=keras.optimizers.Adam(learning_rate=0.01),\n",
    "             loss=\"mean_squared_error\")"
   ]
  },
  {
   "cell_type": "code",
   "execution_count": null,
   "id": "b367231a",
   "metadata": {},
   "outputs": [],
   "source": [
    "print(model.summary())"
   ]
  },
  {
   "cell_type": "code",
   "execution_count": null,
   "id": "c27fd111",
   "metadata": {},
   "outputs": [],
   "source": [
    "10000/32  "
   ]
  },
  {
   "cell_type": "code",
   "execution_count": null,
   "id": "37670a70",
   "metadata": {},
   "outputs": [],
   "source": [
    "# X_train, X_test, y_train, y_test = train_test_split(X,Y, test_size=0.10, random_state=10)\n",
    "\n",
    "history = model.fit(X, Y , epochs=150, batch_size=32, validation_split=0.20, verbose=1) #no "
   ]
  },
  {
   "cell_type": "code",
   "execution_count": null,
   "id": "5a403f1d",
   "metadata": {},
   "outputs": [],
   "source": [
    "test_loss = model.evaluate(X, Y, verbose=1)\n",
    "print(f\"Test loss : {test_loss}\")"
   ]
  },
  {
   "cell_type": "code",
   "execution_count": null,
   "id": "36083e9c",
   "metadata": {},
   "outputs": [],
   "source": [
    "# pd.DataFrame(X, columns=[\"hours_of_sleep\",\"cups_of_coffee\",\"travel_time\"]).head(5)"
   ]
  },
  {
   "cell_type": "code",
   "execution_count": null,
   "id": "0ab61efb",
   "metadata": {},
   "outputs": [],
   "source": [
    "sample_data = np.array([[7,3,25]])\n",
    "\n",
    "prediction = model.predict(sample_data)\n",
    "print(f\"Prediction for 7,3,25 is :{prediction}\")"
   ]
  },
  {
   "cell_type": "code",
   "execution_count": null,
   "id": "c15f0547",
   "metadata": {},
   "outputs": [],
   "source": [
    "plt.figure(figsize=(8,6))\n",
    "plt.plot(history.history['loss'],label='Training loss')\n",
    "plt.plot(history.history['val_loss'], label='Validation loss')\n",
    "plt.title(\"Model loss over Epoch\")\n",
    "plt.xlabel(\"epoch\")\n",
    "plt.ylabel(\"loss\")\n",
    "plt.legend()\n",
    "plt.grid(True, alpha=0.3,linestyle=\"--\")"
   ]
  },
  {
   "cell_type": "code",
   "execution_count": null,
   "id": "94cbaf9b",
   "metadata": {},
   "outputs": [],
   "source": []
  },
  {
   "cell_type": "code",
   "execution_count": null,
   "id": "d9b469ea",
   "metadata": {},
   "outputs": [],
   "source": []
  },
  {
   "cell_type": "code",
   "execution_count": null,
   "id": "b2b8b6a8",
   "metadata": {},
   "outputs": [],
   "source": []
  },
  {
   "cell_type": "code",
   "execution_count": null,
   "id": "f0f21e54",
   "metadata": {},
   "outputs": [],
   "source": []
  },
  {
   "cell_type": "code",
   "execution_count": 26,
   "id": "da426b05",
   "metadata": {},
   "outputs": [],
   "source": [
    "import numpy as np\n",
    "import pandas as pd\n",
    "from sklearn.model_selection import train_test_split\n",
    "from sklearn.preprocessing import StandardScaler\n",
    "import tensorflow as tf\n",
    "from tensorflow.keras import layers, models"
   ]
  },
  {
   "cell_type": "code",
   "execution_count": 27,
   "id": "bcea428a",
   "metadata": {},
   "outputs": [
    {
     "data": {
      "text/html": [
       "<div>\n",
       "<style scoped>\n",
       "    .dataframe tbody tr th:only-of-type {\n",
       "        vertical-align: middle;\n",
       "    }\n",
       "\n",
       "    .dataframe tbody tr th {\n",
       "        vertical-align: top;\n",
       "    }\n",
       "\n",
       "    .dataframe thead th {\n",
       "        text-align: right;\n",
       "    }\n",
       "</style>\n",
       "<table border=\"1\" class=\"dataframe\">\n",
       "  <thead>\n",
       "    <tr style=\"text-align: right;\">\n",
       "      <th></th>\n",
       "      <th>customerID</th>\n",
       "      <th>gender</th>\n",
       "      <th>SeniorCitizen</th>\n",
       "      <th>Partner</th>\n",
       "      <th>Dependents</th>\n",
       "      <th>tenure</th>\n",
       "      <th>PhoneService</th>\n",
       "      <th>MultipleLines</th>\n",
       "      <th>InternetService</th>\n",
       "      <th>OnlineSecurity</th>\n",
       "      <th>OnlineBackup</th>\n",
       "      <th>DeviceProtection</th>\n",
       "      <th>TechSupport</th>\n",
       "      <th>StreamingTV</th>\n",
       "      <th>StreamingMovies</th>\n",
       "      <th>Contract</th>\n",
       "      <th>PaperlessBilling</th>\n",
       "      <th>PaymentMethod</th>\n",
       "      <th>MonthlyCharges</th>\n",
       "      <th>TotalCharges</th>\n",
       "      <th>Churn</th>\n",
       "    </tr>\n",
       "  </thead>\n",
       "  <tbody>\n",
       "    <tr>\n",
       "      <th>0</th>\n",
       "      <td>7590-VHVEG</td>\n",
       "      <td>Female</td>\n",
       "      <td>0</td>\n",
       "      <td>Yes</td>\n",
       "      <td>No</td>\n",
       "      <td>1</td>\n",
       "      <td>No</td>\n",
       "      <td>No phone service</td>\n",
       "      <td>DSL</td>\n",
       "      <td>No</td>\n",
       "      <td>Yes</td>\n",
       "      <td>No</td>\n",
       "      <td>No</td>\n",
       "      <td>No</td>\n",
       "      <td>No</td>\n",
       "      <td>Month-to-month</td>\n",
       "      <td>Yes</td>\n",
       "      <td>Electronic check</td>\n",
       "      <td>29.85</td>\n",
       "      <td>29.85</td>\n",
       "      <td>No</td>\n",
       "    </tr>\n",
       "    <tr>\n",
       "      <th>1</th>\n",
       "      <td>5575-GNVDE</td>\n",
       "      <td>Male</td>\n",
       "      <td>0</td>\n",
       "      <td>No</td>\n",
       "      <td>No</td>\n",
       "      <td>34</td>\n",
       "      <td>Yes</td>\n",
       "      <td>No</td>\n",
       "      <td>DSL</td>\n",
       "      <td>Yes</td>\n",
       "      <td>No</td>\n",
       "      <td>Yes</td>\n",
       "      <td>No</td>\n",
       "      <td>No</td>\n",
       "      <td>No</td>\n",
       "      <td>One year</td>\n",
       "      <td>No</td>\n",
       "      <td>Mailed check</td>\n",
       "      <td>56.95</td>\n",
       "      <td>1889.5</td>\n",
       "      <td>No</td>\n",
       "    </tr>\n",
       "    <tr>\n",
       "      <th>2</th>\n",
       "      <td>3668-QPYBK</td>\n",
       "      <td>Male</td>\n",
       "      <td>0</td>\n",
       "      <td>No</td>\n",
       "      <td>No</td>\n",
       "      <td>2</td>\n",
       "      <td>Yes</td>\n",
       "      <td>No</td>\n",
       "      <td>DSL</td>\n",
       "      <td>Yes</td>\n",
       "      <td>Yes</td>\n",
       "      <td>No</td>\n",
       "      <td>No</td>\n",
       "      <td>No</td>\n",
       "      <td>No</td>\n",
       "      <td>Month-to-month</td>\n",
       "      <td>Yes</td>\n",
       "      <td>Mailed check</td>\n",
       "      <td>53.85</td>\n",
       "      <td>108.15</td>\n",
       "      <td>Yes</td>\n",
       "    </tr>\n",
       "    <tr>\n",
       "      <th>3</th>\n",
       "      <td>7795-CFOCW</td>\n",
       "      <td>Male</td>\n",
       "      <td>0</td>\n",
       "      <td>No</td>\n",
       "      <td>No</td>\n",
       "      <td>45</td>\n",
       "      <td>No</td>\n",
       "      <td>No phone service</td>\n",
       "      <td>DSL</td>\n",
       "      <td>Yes</td>\n",
       "      <td>No</td>\n",
       "      <td>Yes</td>\n",
       "      <td>Yes</td>\n",
       "      <td>No</td>\n",
       "      <td>No</td>\n",
       "      <td>One year</td>\n",
       "      <td>No</td>\n",
       "      <td>Bank transfer (automatic)</td>\n",
       "      <td>42.30</td>\n",
       "      <td>1840.75</td>\n",
       "      <td>No</td>\n",
       "    </tr>\n",
       "    <tr>\n",
       "      <th>4</th>\n",
       "      <td>9237-HQITU</td>\n",
       "      <td>Female</td>\n",
       "      <td>0</td>\n",
       "      <td>No</td>\n",
       "      <td>No</td>\n",
       "      <td>2</td>\n",
       "      <td>Yes</td>\n",
       "      <td>No</td>\n",
       "      <td>Fiber optic</td>\n",
       "      <td>No</td>\n",
       "      <td>No</td>\n",
       "      <td>No</td>\n",
       "      <td>No</td>\n",
       "      <td>No</td>\n",
       "      <td>No</td>\n",
       "      <td>Month-to-month</td>\n",
       "      <td>Yes</td>\n",
       "      <td>Electronic check</td>\n",
       "      <td>70.70</td>\n",
       "      <td>151.65</td>\n",
       "      <td>Yes</td>\n",
       "    </tr>\n",
       "  </tbody>\n",
       "</table>\n",
       "</div>"
      ],
      "text/plain": [
       "   customerID  gender  SeniorCitizen Partner Dependents  tenure PhoneService     MultipleLines InternetService OnlineSecurity OnlineBackup DeviceProtection TechSupport StreamingTV StreamingMovies        Contract PaperlessBilling              PaymentMethod  MonthlyCharges TotalCharges Churn\n",
       "0  7590-VHVEG  Female              0     Yes         No       1           No  No phone service             DSL             No          Yes               No          No          No              No  Month-to-month              Yes           Electronic check           29.85        29.85    No\n",
       "1  5575-GNVDE    Male              0      No         No      34          Yes                No             DSL            Yes           No              Yes          No          No              No        One year               No               Mailed check           56.95       1889.5    No\n",
       "2  3668-QPYBK    Male              0      No         No       2          Yes                No             DSL            Yes          Yes               No          No          No              No  Month-to-month              Yes               Mailed check           53.85       108.15   Yes\n",
       "3  7795-CFOCW    Male              0      No         No      45           No  No phone service             DSL            Yes           No              Yes         Yes          No              No        One year               No  Bank transfer (automatic)           42.30      1840.75    No\n",
       "4  9237-HQITU  Female              0      No         No       2          Yes                No     Fiber optic             No           No               No          No          No              No  Month-to-month              Yes           Electronic check           70.70       151.65   Yes"
      ]
     },
     "execution_count": 27,
     "metadata": {},
     "output_type": "execute_result"
    }
   ],
   "source": [
    "url = \"https://raw.githubusercontent.com/IBM/telco-customer-churn-on-icp4d/master/data/Telco-Customer-Churn.csv\"\n",
    "df = pd.read_csv(url)\n",
    "df.head(5)"
   ]
  },
  {
   "cell_type": "code",
   "execution_count": 28,
   "id": "0579b76a",
   "metadata": {},
   "outputs": [],
   "source": [
    "#line -> always\n",
    "pd.set_option(\"display.max_columns\",None) #show all columsn regardless of their size\n",
    "pd.set_option(\"display.expand_frame_repr\",False) #Prevents wrapping of the text\n",
    "pd.set_option(\"max_colwidth\",None) #show full width of columns"
   ]
  },
  {
   "cell_type": "code",
   "execution_count": 29,
   "id": "65498f83",
   "metadata": {},
   "outputs": [],
   "source": [
    "# __str__\n",
    "# __repr__   dunder methods\n",
    "\n",
    "# OOP's ->.   string overding -> Dunder methids - magic methods\n",
    "\n",
    "# 1) OOP -> Decorators , Dunder methods\n",
    "# pydantic    -> exp \n",
    "# @property\n",
    "# def anthing():\n",
    "#     pass\n",
    "# oop ?"
   ]
  },
  {
   "cell_type": "code",
   "execution_count": 30,
   "id": "7f621bcc",
   "metadata": {},
   "outputs": [
    {
     "data": {
      "text/html": [
       "<div>\n",
       "<style scoped>\n",
       "    .dataframe tbody tr th:only-of-type {\n",
       "        vertical-align: middle;\n",
       "    }\n",
       "\n",
       "    .dataframe tbody tr th {\n",
       "        vertical-align: top;\n",
       "    }\n",
       "\n",
       "    .dataframe thead th {\n",
       "        text-align: right;\n",
       "    }\n",
       "</style>\n",
       "<table border=\"1\" class=\"dataframe\">\n",
       "  <thead>\n",
       "    <tr style=\"text-align: right;\">\n",
       "      <th></th>\n",
       "      <th>customerID</th>\n",
       "      <th>gender</th>\n",
       "      <th>SeniorCitizen</th>\n",
       "      <th>Partner</th>\n",
       "      <th>Dependents</th>\n",
       "      <th>tenure</th>\n",
       "      <th>PhoneService</th>\n",
       "      <th>MultipleLines</th>\n",
       "      <th>InternetService</th>\n",
       "      <th>OnlineSecurity</th>\n",
       "      <th>OnlineBackup</th>\n",
       "      <th>DeviceProtection</th>\n",
       "      <th>TechSupport</th>\n",
       "      <th>StreamingTV</th>\n",
       "      <th>StreamingMovies</th>\n",
       "      <th>Contract</th>\n",
       "      <th>PaperlessBilling</th>\n",
       "      <th>PaymentMethod</th>\n",
       "      <th>MonthlyCharges</th>\n",
       "      <th>TotalCharges</th>\n",
       "      <th>Churn</th>\n",
       "    </tr>\n",
       "  </thead>\n",
       "  <tbody>\n",
       "    <tr>\n",
       "      <th>0</th>\n",
       "      <td>7590-VHVEG</td>\n",
       "      <td>Female</td>\n",
       "      <td>0</td>\n",
       "      <td>Yes</td>\n",
       "      <td>No</td>\n",
       "      <td>1</td>\n",
       "      <td>No</td>\n",
       "      <td>No phone service</td>\n",
       "      <td>DSL</td>\n",
       "      <td>No</td>\n",
       "      <td>Yes</td>\n",
       "      <td>No</td>\n",
       "      <td>No</td>\n",
       "      <td>No</td>\n",
       "      <td>No</td>\n",
       "      <td>Month-to-month</td>\n",
       "      <td>Yes</td>\n",
       "      <td>Electronic check</td>\n",
       "      <td>29.85</td>\n",
       "      <td>29.85</td>\n",
       "      <td>No</td>\n",
       "    </tr>\n",
       "    <tr>\n",
       "      <th>1</th>\n",
       "      <td>5575-GNVDE</td>\n",
       "      <td>Male</td>\n",
       "      <td>0</td>\n",
       "      <td>No</td>\n",
       "      <td>No</td>\n",
       "      <td>34</td>\n",
       "      <td>Yes</td>\n",
       "      <td>No</td>\n",
       "      <td>DSL</td>\n",
       "      <td>Yes</td>\n",
       "      <td>No</td>\n",
       "      <td>Yes</td>\n",
       "      <td>No</td>\n",
       "      <td>No</td>\n",
       "      <td>No</td>\n",
       "      <td>One year</td>\n",
       "      <td>No</td>\n",
       "      <td>Mailed check</td>\n",
       "      <td>56.95</td>\n",
       "      <td>1889.5</td>\n",
       "      <td>No</td>\n",
       "    </tr>\n",
       "    <tr>\n",
       "      <th>2</th>\n",
       "      <td>3668-QPYBK</td>\n",
       "      <td>Male</td>\n",
       "      <td>0</td>\n",
       "      <td>No</td>\n",
       "      <td>No</td>\n",
       "      <td>2</td>\n",
       "      <td>Yes</td>\n",
       "      <td>No</td>\n",
       "      <td>DSL</td>\n",
       "      <td>Yes</td>\n",
       "      <td>Yes</td>\n",
       "      <td>No</td>\n",
       "      <td>No</td>\n",
       "      <td>No</td>\n",
       "      <td>No</td>\n",
       "      <td>Month-to-month</td>\n",
       "      <td>Yes</td>\n",
       "      <td>Mailed check</td>\n",
       "      <td>53.85</td>\n",
       "      <td>108.15</td>\n",
       "      <td>Yes</td>\n",
       "    </tr>\n",
       "    <tr>\n",
       "      <th>3</th>\n",
       "      <td>7795-CFOCW</td>\n",
       "      <td>Male</td>\n",
       "      <td>0</td>\n",
       "      <td>No</td>\n",
       "      <td>No</td>\n",
       "      <td>45</td>\n",
       "      <td>No</td>\n",
       "      <td>No phone service</td>\n",
       "      <td>DSL</td>\n",
       "      <td>Yes</td>\n",
       "      <td>No</td>\n",
       "      <td>Yes</td>\n",
       "      <td>Yes</td>\n",
       "      <td>No</td>\n",
       "      <td>No</td>\n",
       "      <td>One year</td>\n",
       "      <td>No</td>\n",
       "      <td>Bank transfer (automatic)</td>\n",
       "      <td>42.30</td>\n",
       "      <td>1840.75</td>\n",
       "      <td>No</td>\n",
       "    </tr>\n",
       "    <tr>\n",
       "      <th>4</th>\n",
       "      <td>9237-HQITU</td>\n",
       "      <td>Female</td>\n",
       "      <td>0</td>\n",
       "      <td>No</td>\n",
       "      <td>No</td>\n",
       "      <td>2</td>\n",
       "      <td>Yes</td>\n",
       "      <td>No</td>\n",
       "      <td>Fiber optic</td>\n",
       "      <td>No</td>\n",
       "      <td>No</td>\n",
       "      <td>No</td>\n",
       "      <td>No</td>\n",
       "      <td>No</td>\n",
       "      <td>No</td>\n",
       "      <td>Month-to-month</td>\n",
       "      <td>Yes</td>\n",
       "      <td>Electronic check</td>\n",
       "      <td>70.70</td>\n",
       "      <td>151.65</td>\n",
       "      <td>Yes</td>\n",
       "    </tr>\n",
       "  </tbody>\n",
       "</table>\n",
       "</div>"
      ],
      "text/plain": [
       "   customerID  gender  SeniorCitizen Partner Dependents  tenure PhoneService     MultipleLines InternetService OnlineSecurity OnlineBackup DeviceProtection TechSupport StreamingTV StreamingMovies        Contract PaperlessBilling              PaymentMethod  MonthlyCharges TotalCharges Churn\n",
       "0  7590-VHVEG  Female              0     Yes         No       1           No  No phone service             DSL             No          Yes               No          No          No              No  Month-to-month              Yes           Electronic check           29.85        29.85    No\n",
       "1  5575-GNVDE    Male              0      No         No      34          Yes                No             DSL            Yes           No              Yes          No          No              No        One year               No               Mailed check           56.95       1889.5    No\n",
       "2  3668-QPYBK    Male              0      No         No       2          Yes                No             DSL            Yes          Yes               No          No          No              No  Month-to-month              Yes               Mailed check           53.85       108.15   Yes\n",
       "3  7795-CFOCW    Male              0      No         No      45           No  No phone service             DSL            Yes           No              Yes         Yes          No              No        One year               No  Bank transfer (automatic)           42.30      1840.75    No\n",
       "4  9237-HQITU  Female              0      No         No       2          Yes                No     Fiber optic             No           No               No          No          No              No  Month-to-month              Yes           Electronic check           70.70       151.65   Yes"
      ]
     },
     "execution_count": 30,
     "metadata": {},
     "output_type": "execute_result"
    }
   ],
   "source": [
    "df.head(5)"
   ]
  },
  {
   "cell_type": "code",
   "execution_count": 31,
   "id": "e833044d",
   "metadata": {},
   "outputs": [
    {
     "name": "stdout",
     "output_type": "stream",
     "text": [
      "<class 'pandas.core.frame.DataFrame'>\n",
      "RangeIndex: 7043 entries, 0 to 7042\n",
      "Data columns (total 21 columns):\n",
      " #   Column            Non-Null Count  Dtype  \n",
      "---  ------            --------------  -----  \n",
      " 0   customerID        7043 non-null   object \n",
      " 1   gender            7043 non-null   object \n",
      " 2   SeniorCitizen     7043 non-null   int64  \n",
      " 3   Partner           7043 non-null   object \n",
      " 4   Dependents        7043 non-null   object \n",
      " 5   tenure            7043 non-null   int64  \n",
      " 6   PhoneService      7043 non-null   object \n",
      " 7   MultipleLines     7043 non-null   object \n",
      " 8   InternetService   7043 non-null   object \n",
      " 9   OnlineSecurity    7043 non-null   object \n",
      " 10  OnlineBackup      7043 non-null   object \n",
      " 11  DeviceProtection  7043 non-null   object \n",
      " 12  TechSupport       7043 non-null   object \n",
      " 13  StreamingTV       7043 non-null   object \n",
      " 14  StreamingMovies   7043 non-null   object \n",
      " 15  Contract          7043 non-null   object \n",
      " 16  PaperlessBilling  7043 non-null   object \n",
      " 17  PaymentMethod     7043 non-null   object \n",
      " 18  MonthlyCharges    7043 non-null   float64\n",
      " 19  TotalCharges      7043 non-null   object \n",
      " 20  Churn             7043 non-null   object \n",
      "dtypes: float64(1), int64(2), object(18)\n",
      "memory usage: 1.1+ MB\n"
     ]
    }
   ],
   "source": [
    "df.info()"
   ]
  },
  {
   "cell_type": "code",
   "execution_count": 32,
   "id": "3fad7e75",
   "metadata": {},
   "outputs": [],
   "source": [
    "# df['TotalCharges'].duplicated().sum()\n",
    "# df['gender'].duplicated().sum()\n",
    "# df['Churn'].duplicated().sum()"
   ]
  },
  {
   "cell_type": "code",
   "execution_count": 33,
   "id": "3f9c029d",
   "metadata": {},
   "outputs": [],
   "source": [
    "df['TotalCharges'] = pd.to_numeric(df['TotalCharges'], errors='coerce')\n",
    "df['gender'] = df['gender'].map({'Female':0, \"Male\":1})\n",
    "df['Churn'] = df['Churn'].map({\"No\":0, \"Yes\":1})"
   ]
  },
  {
   "cell_type": "code",
   "execution_count": 34,
   "id": "5528faa9",
   "metadata": {},
   "outputs": [
    {
     "name": "stdout",
     "output_type": "stream",
     "text": [
      "                empty_count  empty_percentage\n",
      "gender                    0          0.000000\n",
      "SeniorCitizen             0          0.000000\n",
      "tenure                    0          0.000000\n",
      "MonthlyCharges            0          0.000000\n",
      "TotalCharges             11          0.156183\n",
      "========================================\n",
      "gender              int64\n",
      "SeniorCitizen       int64\n",
      "tenure              int64\n",
      "MonthlyCharges    float64\n",
      "TotalCharges      float64\n",
      "dtype: object\n"
     ]
    }
   ],
   "source": [
    "features = [\"gender\", \"SeniorCitizen\", \"tenure\", \"MonthlyCharges\", \"TotalCharges\"]\n",
    "empty_values = df[features].isnull().sum() + (df[features] == '').sum()  \n",
    "\n",
    "total_rows = len(df)\n",
    "empty_percentage = (empty_values / total_rows) * 100\n",
    "\n",
    "empty_summary = pd.DataFrame ({\n",
    "    \"empty_count\":empty_values,\n",
    "    \"empty_percentage\":empty_percentage\n",
    "})\n",
    "\n",
    "print(empty_summary)\n",
    "\n",
    "print(\"==\"*20)\n",
    "print(df[features].dtypes)"
   ]
  },
  {
   "cell_type": "code",
   "execution_count": 35,
   "id": "a4366447",
   "metadata": {},
   "outputs": [],
   "source": [
    "df.dropna(inplace=True)"
   ]
  },
  {
   "cell_type": "code",
   "execution_count": 36,
   "id": "4c5b72b6",
   "metadata": {},
   "outputs": [],
   "source": [
    "#seect features and target\n",
    "features = [\"gender\", \"SeniorCitizen\", \"tenure\", \"MonthlyCharges\", \"TotalCharges\"]\n",
    "X = df[features]    #why?  is it a data frame\n",
    "Y = df['Churn']"
   ]
  },
  {
   "cell_type": "code",
   "execution_count": 11,
   "id": "9f970fd4",
   "metadata": {},
   "outputs": [],
   "source": [
    "X_train, X_test, y_train, y_test = train_test_split(X, Y, test_size=0.20, random_state=10)\n",
    "\n",
    "scaler = StandardScaler()\n",
    "X_train_scaled = scaler.fit_transform(X_train)\n",
    "X_test_scaled = scaler.transform(X_test)"
   ]
  },
  {
   "cell_type": "code",
   "execution_count": 13,
   "id": "53ab80d1",
   "metadata": {},
   "outputs": [
    {
     "data": {
      "text/plain": [
       "10"
      ]
     },
     "execution_count": 13,
     "metadata": {},
     "output_type": "execute_result"
    }
   ],
   "source": [
    "np.isnan(X_train_scaled).sum()"
   ]
  },
  {
   "cell_type": "code",
   "execution_count": null,
   "id": "0eb32732",
   "metadata": {},
   "outputs": [],
   "source": []
  },
  {
   "cell_type": "code",
   "execution_count": null,
   "id": "d6dc6e91",
   "metadata": {},
   "outputs": [],
   "source": [
    "model = models.Sequential([\n",
    "    layers.Dense(64, activation='relu',input_shape=(5,)),   #Frist hiddel layer\n",
    "    layers.Dense(32, activation='relu'),                    # second hiiden layer\n",
    "    layers.Dense(16, activation='relu'),                    # third hidden layer\n",
    "    layers.Dense(8, activation='relu'),                     # fourth hiodden latyer\n",
    "    layers.Dense(1, activation='sigmoid')                   # Outpput layer\n",
    "])"
   ]
  },
  {
   "cell_type": "code",
   "execution_count": null,
   "id": "629995d0",
   "metadata": {},
   "outputs": [],
   "source": [
    "model.compile(optimizer=\"adam\", loss='binary_crossentropy', metrics=['accuracy'])\n",
    "model.summary()"
   ]
  },
  {
   "cell_type": "code",
   "execution_count": null,
   "id": "3e96e297",
   "metadata": {},
   "outputs": [],
   "source": [
    "history = model.fit(X_train_scaled, y_train, epochs=50, batch_size=32, validation_split=0.20, verbose=1)"
   ]
  },
  {
   "cell_type": "code",
   "execution_count": 41,
   "id": "f8be6ead",
   "metadata": {},
   "outputs": [],
   "source": [
    "# help(df.dropna)"
   ]
  },
  {
   "cell_type": "code",
   "execution_count": 48,
   "id": "14bee04a",
   "metadata": {},
   "outputs": [
    {
     "data": {
      "image/png": "[encoded data removed]",
      "text/plain": [
       "<Figure size 800x600 with 2 Axes>"
      ]
     },
     "metadata": {},
     "output_type": "display_data"
    }
   ],
   "source": [
    "import numpy as np\n",
    "import matplotlib.pyplot as plt\n",
    "from PIL import Image\n",
    "\n",
    "def simple_edge_detection(image_path):\n",
    "    img = Image.open(image_path).convert(\"L\")\n",
    "    img_array = np.array(img)\n",
    "    \n",
    "    kernel_x = np.array([[-1, 0 , 1],\n",
    "                        [-2, 0, 2],\n",
    "                        [-1, 0 , 1]])\n",
    "    kernel_y = np.array([[-1, -2, -1],\n",
    "                         [0, 0, 0],\n",
    "                         [1, 2, 1]])\n",
    "    \n",
    "    edges_x = np.abs(np.convolve(img_array.flatten(), kernel_x.flatten(), mode='same').reshape(img_array.shape))\n",
    "    edges_y = np.abs(np.convolve(img_array.flatten(), kernel_y.flatten(), mode='same').reshape(img_array.shape))\n",
    "    \n",
    "    edges = np.sqrt(edges_x ** 2 + edges_y ** 2)\n",
    "    \n",
    "    edges = (edges - edges.min()) / (edges.max() - edges.min()) * 255\n",
    "    \n",
    "    plt.figure(figsize=(8,6))\n",
    "    plt.subplot(131),plt.imshow(img_array, cmap='gray')\n",
    "    plt.title(\"Original Image\"), plt.axis('off')\n",
    "    \n",
    "    plt.subplot(132),plt.imshow(edges, cmap='gray')\n",
    "    plt.title(\"Edge Detection\"), plt.axis('off')\n",
    "    plt.tight_layout()\n",
    "    plt.show()\n",
    "    \n",
    "image_path = \"./IMG_20200428_185444.jpg\"\n",
    "simple_edge_detection(image_path)"
   ]
  },
  {
   "cell_type": "code",
   "execution_count": null,
   "id": "69b6130d",
   "metadata": {},
   "outputs": [],
   "source": []
  },
  {
   "cell_type": "code",
   "execution_count": 32,
   "id": "e2bf2c77",
   "metadata": {},
   "outputs": [],
   "source": [
    "#Import libraries\n",
    "import tensorflow as tf\n",
    "import matplotlib.pyplot as plt\n",
    "from tensorflow.keras import layers, models, callbacks\n",
    "from PIL import Image, ImageOps\n",
    "import numpy as np"
   ]
  },
  {
   "cell_type": "code",
   "execution_count": 2,
   "id": "0e5658c6",
   "metadata": {},
   "outputs": [],
   "source": [
    "#loading the data\n",
    "(train_images, train_labels), (test_images, test_labels) = tf.keras.datasets.mnist.load_data()"
   ]
  },
  {
   "cell_type": "code",
   "execution_count": 3,
   "id": "a072318e",
   "metadata": {},
   "outputs": [
    {
     "data": {
      "text/plain": [
       "(10000, 28, 28)"
      ]
     },
     "execution_count": 3,
     "metadata": {},
     "output_type": "execute_result"
    }
   ],
   "source": [
    "train_images.shape\n",
    "test_images.shape"
   ]
  },
  {
   "cell_type": "code",
   "execution_count": 4,
   "id": "a13bf09c",
   "metadata": {},
   "outputs": [],
   "source": [
    "# train_images[0]"
   ]
  },
  {
   "cell_type": "code",
   "execution_count": 5,
   "id": "1505256f",
   "metadata": {},
   "outputs": [
    {
     "data": {
      "image/png": "[encoded data removed]",
      "text/plain": [
       "<Figure size 800x800 with 9 Axes>"
      ]
     },
     "metadata": {},
     "output_type": "display_data"
    }
   ],
   "source": [
    "#visually see the data\n",
    "plt.figure(figsize=(8,8))\n",
    "for i in range(9):\n",
    "    plt.subplot(3,3, i+1)\n",
    "    plt.imshow(train_images[i], cmap='gray')\n",
    "    plt.title(f\"Label : {train_labels[i]}\")\n",
    "    plt.axis('off')"
   ]
  },
  {
   "cell_type": "code",
   "execution_count": 6,
   "id": "11c1fd43",
   "metadata": {},
   "outputs": [],
   "source": [
    "#Normalize the pixe; values as well (0-255)\n",
    "train_images = train_images.astype('float32') / 255\n",
    "test_images = test_images.astype('float32') / 255"
   ]
  },
  {
   "cell_type": "code",
   "execution_count": 7,
   "id": "52b949d4",
   "metadata": {},
   "outputs": [
    {
     "data": {
      "text/plain": [
       "(28, 28)"
      ]
     },
     "execution_count": 7,
     "metadata": {},
     "output_type": "execute_result"
    }
   ],
   "source": [
    "# train_images[0].ndim\n",
    "train_images[0].shape\n",
    "# train_images[0]"
   ]
  },
  {
   "cell_type": "code",
   "execution_count": 8,
   "id": "405aaad4",
   "metadata": {},
   "outputs": [],
   "source": [
    "#reshape   include channel dimesion\n",
    "train_images = train_images.reshape((-1, 28,28,1))   #single channel image (grayscale)\n",
    "test_images = test_images.reshape((-1, 28,28,1))"
   ]
  },
  {
   "cell_type": "code",
   "execution_count": 9,
   "id": "f9265b35",
   "metadata": {},
   "outputs": [
    {
     "data": {
      "text/plain": [
       "(28, 28, 1)"
      ]
     },
     "execution_count": 9,
     "metadata": {},
     "output_type": "execute_result"
    }
   ],
   "source": [
    "# train_images[0].ndim\n",
    "train_images[0].shape\n",
    "# train_images[0]"
   ]
  },
  {
   "cell_type": "code",
   "execution_count": 10,
   "id": "7111f8b3",
   "metadata": {},
   "outputs": [],
   "source": [
    "# one hot encoding\n",
    "train_labels = tf.keras.utils.to_categorical(train_labels)\n",
    "test_labels = tf.keras.utils.to_categorical(test_labels)"
   ]
  },
  {
   "cell_type": "code",
   "execution_count": 11,
   "id": "fe084506",
   "metadata": {},
   "outputs": [],
   "source": [
    "# train_labels[0]"
   ]
  },
  {
   "cell_type": "code",
   "execution_count": 12,
   "id": "64eb9f83",
   "metadata": {},
   "outputs": [],
   "source": [
    "# DaTA aUGMENTATION \n",
    "data_augmentation = tf.keras.Sequential([\n",
    "    layers.RandomZoom(0.1),\n",
    "    layers.RandomRotation(0.10)\n",
    "])"
   ]
  },
  {
   "cell_type": "code",
   "execution_count": 13,
   "id": "cf423b0c",
   "metadata": {},
   "outputs": [],
   "source": [
    "# 32 -- filters -  32   -> random\n",
    "\n",
    "# maxpooling = 28,28.   - (4*4).   dim red"
   ]
  },
  {
   "cell_type": "code",
   "execution_count": 17,
   "id": "22bf94f0",
   "metadata": {},
   "outputs": [],
   "source": [
    "#define our CNN model\n",
    "def create_model():\n",
    "    model = models.Sequential([\n",
    "        data_augmentation,\n",
    "        layers.Conv2D(32, (3,3) , activation='relu', input_shape = (28,28,1)),\n",
    "        layers.BatchNormalization(),   #normalization \n",
    "        layers.MaxPooling2D((2,2)),\n",
    "        \n",
    "        layers.Conv2D(64, (3,3), activation='relu'),\n",
    "        layers.BatchNormalization(),\n",
    "        layers.MaxPooling2D((2,2)),\n",
    "        \n",
    "        layers.Conv2D(128, (3,3), activation='relu'),\n",
    "        layers.BatchNormalization(),\n",
    "        \n",
    "        layers.Flatten(),\n",
    "        \n",
    "        layers.Dense(128, activation='relu'),\n",
    "        layers.Dropout(0.5),\n",
    "        layers.Dense(10, activation=\"softmax\") \n",
    "    ])\n",
    "    return model"
   ]
  },
  {
   "cell_type": "code",
   "execution_count": 19,
   "id": "0d5163d2",
   "metadata": {},
   "outputs": [
    {
     "name": "stderr",
     "output_type": "stream",
     "text": [
      "/Users/parthsharma/anaconda3/lib/python3.11/site-packages/keras/src/layers/convolutional/base_conv.py:107: UserWarning: Do not pass an `input_shape`/`input_dim` argument to a layer. When using Sequential models, prefer using an `Input(shape)` object as the first layer in the model instead.\n",
      "  super().__init__(activity_regularizer=activity_regularizer, **kwargs)\n"
     ]
    }
   ],
   "source": [
    "model = create_model()   #-> model - instance of your function create_model()\n",
    "model.compile(optimizer=\"adam\",\n",
    "             loss = \"categorical_crossentropy\",\n",
    "             metrics=['accuracy'])"
   ]
  },
  {
   "cell_type": "code",
   "execution_count": null,
   "id": "8e9c4330",
   "metadata": {},
   "outputs": [],
   "source": [
    "#implemnt early stopping\n",
    "early_stopping = callbacks.EarlyStopping(patience=5, restore_best_weights=True)\n",
    "#reduce the learning rate\n",
    "reduce_lr = callbacks.ReduceLROnPlateau(factor=0.20, patience=3)"
   ]
  },
  {
   "cell_type": "code",
   "execution_count": 22,
   "id": "d74cd260",
   "metadata": {},
   "outputs": [
    {
     "name": "stdout",
     "output_type": "stream",
     "text": [
      "Epoch 1/30\n",
      "\u001b[1m1688/1688\u001b[0m \u001b[32m━━━━━━━━━━━━━━━━━━━━\u001b[0m\u001b[37m\u001b[0m \u001b[1m28s\u001b[0m 16ms/step - accuracy: 0.8616 - loss: 0.4544 - val_accuracy: 0.9790 - val_loss: 0.0663 - learning_rate: 0.0010\n",
      "Epoch 2/30\n",
      "\u001b[1m1688/1688\u001b[0m \u001b[32m━━━━━━━━━━━━━━━━━━━━\u001b[0m\u001b[37m\u001b[0m \u001b[1m28s\u001b[0m 17ms/step - accuracy: 0.9635 - loss: 0.1301 - val_accuracy: 0.9835 - val_loss: 0.0669 - learning_rate: 0.0010\n",
      "Epoch 3/30\n",
      "\u001b[1m1688/1688\u001b[0m \u001b[32m━━━━━━━━━━━━━━━━━━━━\u001b[0m\u001b[37m\u001b[0m \u001b[1m28s\u001b[0m 17ms/step - accuracy: 0.9695 - loss: 0.1030 - val_accuracy: 0.9775 - val_loss: 0.0885 - learning_rate: 0.0010\n",
      "Epoch 4/30\n",
      "\u001b[1m1688/1688\u001b[0m \u001b[32m━━━━━━━━━━━━━━━━━━━━\u001b[0m\u001b[37m\u001b[0m \u001b[1m28s\u001b[0m 17ms/step - accuracy: 0.9744 - loss: 0.0902 - val_accuracy: 0.9880 - val_loss: 0.0441 - learning_rate: 0.0010\n",
      "Epoch 5/30\n",
      "\u001b[1m1688/1688\u001b[0m \u001b[32m━━━━━━━━━━━━━━━━━━━━\u001b[0m\u001b[37m\u001b[0m \u001b[1m30s\u001b[0m 18ms/step - accuracy: 0.9780 - loss: 0.0766 - val_accuracy: 0.9850 - val_loss: 0.0548 - learning_rate: 0.0010\n",
      "Epoch 6/30\n",
      "\u001b[1m1688/1688\u001b[0m \u001b[32m━━━━━━━━━━━━━━━━━━━━\u001b[0m\u001b[37m\u001b[0m \u001b[1m30s\u001b[0m 18ms/step - accuracy: 0.9789 - loss: 0.0752 - val_accuracy: 0.9905 - val_loss: 0.0469 - learning_rate: 0.0010\n",
      "Epoch 7/30\n",
      "\u001b[1m1688/1688\u001b[0m \u001b[32m━━━━━━━━━━━━━━━━━━━━\u001b[0m\u001b[37m\u001b[0m \u001b[1m32s\u001b[0m 19ms/step - accuracy: 0.9810 - loss: 0.0670 - val_accuracy: 0.9902 - val_loss: 0.0425 - learning_rate: 0.0010\n",
      "Epoch 8/30\n",
      "\u001b[1m1688/1688\u001b[0m \u001b[32m━━━━━━━━━━━━━━━━━━━━\u001b[0m\u001b[37m\u001b[0m \u001b[1m29s\u001b[0m 17ms/step - accuracy: 0.9826 - loss: 0.0608 - val_accuracy: 0.9910 - val_loss: 0.0368 - learning_rate: 0.0010\n",
      "Epoch 9/30\n",
      "\u001b[1m1688/1688\u001b[0m \u001b[32m━━━━━━━━━━━━━━━━━━━━\u001b[0m\u001b[37m\u001b[0m \u001b[1m28s\u001b[0m 17ms/step - accuracy: 0.9845 - loss: 0.0564 - val_accuracy: 0.9872 - val_loss: 0.0570 - learning_rate: 0.0010\n",
      "Epoch 10/30\n",
      "\u001b[1m1688/1688\u001b[0m \u001b[32m━━━━━━━━━━━━━━━━━━━━\u001b[0m\u001b[37m\u001b[0m \u001b[1m28s\u001b[0m 17ms/step - accuracy: 0.9837 - loss: 0.0608 - val_accuracy: 0.9898 - val_loss: 0.0500 - learning_rate: 0.0010\n",
      "Epoch 11/30\n",
      "\u001b[1m1688/1688\u001b[0m \u001b[32m━━━━━━━━━━━━━━━━━━━━\u001b[0m\u001b[37m\u001b[0m \u001b[1m29s\u001b[0m 17ms/step - accuracy: 0.9864 - loss: 0.0499 - val_accuracy: 0.9917 - val_loss: 0.0442 - learning_rate: 0.0010\n",
      "Epoch 12/30\n",
      "\u001b[1m1688/1688\u001b[0m \u001b[32m━━━━━━━━━━━━━━━━━━━━\u001b[0m\u001b[37m\u001b[0m \u001b[1m30s\u001b[0m 18ms/step - accuracy: 0.9874 - loss: 0.0436 - val_accuracy: 0.9912 - val_loss: 0.0421 - learning_rate: 2.0000e-04\n",
      "Epoch 13/30\n",
      "\u001b[1m1688/1688\u001b[0m \u001b[32m━━━━━━━━━━━━━━━━━━━━\u001b[0m\u001b[37m\u001b[0m \u001b[1m29s\u001b[0m 17ms/step - accuracy: 0.9898 - loss: 0.0351 - val_accuracy: 0.9927 - val_loss: 0.0365 - learning_rate: 2.0000e-04\n",
      "Epoch 14/30\n",
      "\u001b[1m1688/1688\u001b[0m \u001b[32m━━━━━━━━━━━━━━━━━━━━\u001b[0m\u001b[37m\u001b[0m \u001b[1m31s\u001b[0m 18ms/step - accuracy: 0.9916 - loss: 0.0304 - val_accuracy: 0.9923 - val_loss: 0.0342 - learning_rate: 2.0000e-04\n",
      "Epoch 15/30\n",
      "\u001b[1m1688/1688\u001b[0m \u001b[32m━━━━━━━━━━━━━━━━━━━━\u001b[0m\u001b[37m\u001b[0m \u001b[1m30s\u001b[0m 18ms/step - accuracy: 0.9914 - loss: 0.0290 - val_accuracy: 0.9927 - val_loss: 0.0365 - learning_rate: 2.0000e-04\n",
      "Epoch 16/30\n",
      "\u001b[1m1688/1688\u001b[0m \u001b[32m━━━━━━━━━━━━━━━━━━━━\u001b[0m\u001b[37m\u001b[0m \u001b[1m31s\u001b[0m 18ms/step - accuracy: 0.9923 - loss: 0.0259 - val_accuracy: 0.9933 - val_loss: 0.0332 - learning_rate: 2.0000e-04\n",
      "Epoch 17/30\n",
      "\u001b[1m1688/1688\u001b[0m \u001b[32m━━━━━━━━━━━━━━━━━━━━\u001b[0m\u001b[37m\u001b[0m \u001b[1m31s\u001b[0m 19ms/step - accuracy: 0.9916 - loss: 0.0269 - val_accuracy: 0.9942 - val_loss: 0.0322 - learning_rate: 2.0000e-04\n",
      "Epoch 18/30\n",
      "\u001b[1m1688/1688\u001b[0m \u001b[32m━━━━━━━━━━━━━━━━━━━━\u001b[0m\u001b[37m\u001b[0m \u001b[1m30s\u001b[0m 18ms/step - accuracy: 0.9918 - loss: 0.0265 - val_accuracy: 0.9932 - val_loss: 0.0366 - learning_rate: 2.0000e-04\n",
      "Epoch 19/30\n",
      "\u001b[1m1688/1688\u001b[0m \u001b[32m━━━━━━━━━━━━━━━━━━━━\u001b[0m\u001b[37m\u001b[0m \u001b[1m30s\u001b[0m 18ms/step - accuracy: 0.9927 - loss: 0.0245 - val_accuracy: 0.9928 - val_loss: 0.0324 - learning_rate: 2.0000e-04\n",
      "Epoch 20/30\n",
      "\u001b[1m1688/1688\u001b[0m \u001b[32m━━━━━━━━━━━━━━━━━━━━\u001b[0m\u001b[37m\u001b[0m \u001b[1m31s\u001b[0m 19ms/step - accuracy: 0.9935 - loss: 0.0227 - val_accuracy: 0.9940 - val_loss: 0.0368 - learning_rate: 2.0000e-04\n",
      "Epoch 21/30\n",
      "\u001b[1m1688/1688\u001b[0m \u001b[32m━━━━━━━━━━━━━━━━━━━━\u001b[0m\u001b[37m\u001b[0m \u001b[1m29s\u001b[0m 17ms/step - accuracy: 0.9922 - loss: 0.0227 - val_accuracy: 0.9937 - val_loss: 0.0357 - learning_rate: 4.0000e-05\n",
      "Epoch 22/30\n",
      "\u001b[1m1688/1688\u001b[0m \u001b[32m━━━━━━━━━━━━━━━━━━━━\u001b[0m\u001b[37m\u001b[0m \u001b[1m29s\u001b[0m 17ms/step - accuracy: 0.9934 - loss: 0.0204 - val_accuracy: 0.9935 - val_loss: 0.0347 - learning_rate: 4.0000e-05\n"
     ]
    }
   ],
   "source": [
    "#train \n",
    "history = model.fit(train_images, train_labels, epochs=30,\n",
    "                   validation_split=0.1, \n",
    "                   callbacks=[early_stopping, reduce_lr])"
   ]
  },
  {
   "cell_type": "code",
   "execution_count": 23,
   "id": "3cd0d287",
   "metadata": {},
   "outputs": [
    {
     "name": "stdout",
     "output_type": "stream",
     "text": [
      "\u001b[1m313/313\u001b[0m \u001b[32m━━━━━━━━━━━━━━━━━━━━\u001b[0m\u001b[37m\u001b[0m \u001b[1m1s\u001b[0m 4ms/step - accuracy: 0.9914 - loss: 0.0365\n",
      "Test Accuracy for the CNN is : 0.9934999942779541\n"
     ]
    }
   ],
   "source": [
    "#evaluate model \n",
    "test_loss, test_acc = model.evaluate(test_images, test_labels, verbose='auto')\n",
    "print(f\"Test Accuracy for the CNN is : {test_acc}\")"
   ]
  },
  {
   "cell_type": "code",
   "execution_count": 26,
   "id": "1e1aabe8",
   "metadata": {},
   "outputs": [
    {
     "data": {
      "image/png": "[encoded data removed]",
      "text/plain": [
       "<Figure size 1000x400 with 2 Axes>"
      ]
     },
     "metadata": {},
     "output_type": "display_data"
    }
   ],
   "source": [
    "#graphs\n",
    "plt.figure(figsize=(10,4))\n",
    "plt.subplot(1,2,1)\n",
    "plt.plot(history.history['accuracy'], label = 'Training Accuracy')\n",
    "plt.plot(history.history['val_accuracy'], label = 'Validation Accuracy')\n",
    "plt.xlabel(\"Epoch\")\n",
    "plt.ylabel(\"Accuracy\")\n",
    "plt.legend()\n",
    "plt.grid(True)\n",
    "\n",
    "\n",
    "plt.subplot(1,2,2)\n",
    "plt.plot(history.history['loss'], label = 'Training Loss')\n",
    "plt.plot(history.history['val_loss'], label = 'Validation Loss')\n",
    "plt.xlabel(\"Epoch\")\n",
    "plt.ylabel(\"Loss\")\n",
    "plt.legend()\n",
    "plt.grid(True)\n",
    "\n",
    "plt.tight_layout()"
   ]
  },
  {
   "cell_type": "code",
   "execution_count": 27,
   "id": "bd838281",
   "metadata": {},
   "outputs": [
    {
     "name": "stdout",
     "output_type": "stream",
     "text": [
      "Model Saved as mnist_cnn_model.keras \n"
     ]
    }
   ],
   "source": [
    "#Save \n",
    "model.save(\"mnist_cnn_model.keras\")\n",
    "print(f\"Model Saved as mnist_cnn_model.keras\")\n",
    "# .pickle -> hdf5"
   ]
  },
  {
   "cell_type": "code",
   "execution_count": 33,
   "id": "7eccb247",
   "metadata": {},
   "outputs": [],
   "source": [
    "def predict_image(image_path, model):\n",
    "    img = Image.open(image_path).convert('L')   #  converts image to grayscale\n",
    "    img = ImageOps.invert(img)                  # 0-> white. 255-black\n",
    "    img = img.resize((28, 28))\n",
    "    img_array = np.array(img)\n",
    "    img_array = img_array.astype(\"float32\") / 255\n",
    "    img_array = img_array.reshape((-1, 28, 28, 1))\n",
    "    \n",
    "    prediction = model.predict(img_array)\n",
    "    predicted_class = np.argmax(prediction)\n",
    "    confidence = np.max(prediction)\n",
    "    \n",
    "    return predicted_class, confidence"
   ]
  },
  {
   "cell_type": "code",
   "execution_count": 34,
   "id": "be6b56af",
   "metadata": {},
   "outputs": [],
   "source": [
    "def load_model_and_predict(image_path):\n",
    "    loaded_model = tf.keras.models.load_model(\"mnist_cnn_model.keras\")\n",
    "    \n",
    "    predicted_class, confidence = predict_image(image_path, loaded_model)\n",
    "    print(f\"Predicted digit : {predicted_class}\")\n",
    "    print(f\"Confidence : {confidence}\")\n",
    "    \n",
    "    img = Image.open(image_path).convert(\"L\")\n",
    "    plt.imshow(img, cmap='gray')\n",
    "    plt.title(f\"Predicted : {predicted_class} || (Confidence : {confidence})\")\n",
    "    plt.axis('off')"
   ]
  },
  {
   "cell_type": "code",
   "execution_count": 35,
   "id": "2686669f",
   "metadata": {},
   "outputs": [
    {
     "name": "stdout",
     "output_type": "stream",
     "text": [
      "\u001b[1m1/1\u001b[0m \u001b[32m━━━━━━━━━━━━━━━━━━━━\u001b[0m\u001b[37m\u001b[0m \u001b[1m0s\u001b[0m 104ms/step\n",
      "Predicted digit : 8\n",
      "Confidence : 0.33259913325309753\n"
     ]
    },
    {
     "data": {
      "image/png": "[encoded data removed]",
      "text/plain": [
       "<Figure size 640x480 with 1 Axes>"
      ]
     },
     "metadata": {},
     "output_type": "display_data"
    }
   ],
   "source": [
    "load_model_and_predict(\"./IMG_0580.jpg\")"
   ]
  },
  {
   "cell_type": "code",
   "execution_count": null,
   "id": "8c83f646",
   "metadata": {},
   "outputs": [],
   "source": [
    "Vit -> ocr\n",
    "Donut - "
   ]
  },
  {
   "cell_type": "code",
   "execution_count": null,
   "id": "b9db2285",
   "metadata": {},
   "outputs": [],
   "source": []
  }
 ],
 "metadata": {
  "kernelspec": {
   "display_name": "Python 3 (ipykernel)",
   "language": "python",
   "name": "python3"
  },
  "language_info": {
   "codemirror_mode": {
    "name": "ipython",
    "version": 3
   },
   "file_extension": ".py",
   "mimetype": "text/x-python",
   "name": "python",
   "nbconvert_exporter": "python",
   "pygments_lexer": "ipython3",
   "version": "3.11.4"
  }
 },
 "nbformat": 4,
 "nbformat_minor": 5
}
