{
 "cells": [
  {
   "cell_type": "code",
   "execution_count": 1,
   "id": "60da73b4",
   "metadata": {},
   "outputs": [
    {
     "name": "stderr",
     "output_type": "stream",
     "text": [
      "[nltk_data] Downloading package punkt to\n",
      "[nltk_data]     /Users/parthsharma/nltk_data...\n",
      "[nltk_data]   Package punkt is already up-to-date!\n"
     ]
    },
    {
     "data": {
      "text/plain": [
       "True"
      ]
     },
     "execution_count": 1,
     "metadata": {},
     "output_type": "execute_result"
    }
   ],
   "source": [
    "import nltk\n",
    "from nltk.corpus import stopwords\n",
    "from nltk.tokenize import word_tokenize\n",
    "\n",
    "nltk.download(\"punkt\")\n",
    "nltk.download(\"stopwords\")"
   ]
  },
  {
   "cell_type": "code",
   "execution_count": 2,
   "id": "3c31e229",
   "metadata": {},
   "outputs": [],
   "source": [
    "text = \"i am taking a simple example of a document here to show how exactly does stopword removal works\""
   ]
  },
  {
   "cell_type": "code",
   "execution_count": 3,
   "id": "7c786b3d",
   "metadata": {},
   "outputs": [],
   "source": [
    "words = word_tokenize(text)\n",
    "stopwords = set(stopwords.words('english'))\n",
    "\n",
    "filtered_Sent = [word for word in words if word.lower() not in stopwords]"
   ]
  },
  {
   "cell_type": "code",
   "execution_count": 4,
   "id": "744f5e8e",
   "metadata": {},
   "outputs": [
    {
     "name": "stdout",
     "output_type": "stream",
     "text": [
      "orginal : ['i', 'am', 'taking', 'a', 'simple', 'example', 'of', 'a', 'document', 'here', 'to', 'show', 'how', 'exactly', 'does', 'stopword', 'removal', 'works']\n"
     ]
    }
   ],
   "source": [
    "print(f\"orginal : {words}\")"
   ]
  },
  {
   "cell_type": "code",
   "execution_count": 5,
   "id": "72468be4",
   "metadata": {},
   "outputs": [
    {
     "name": "stdout",
     "output_type": "stream",
     "text": [
      "filtered : ['taking', 'simple', 'example', 'document', 'show', 'exactly', 'stopword', 'removal', 'works']\n"
     ]
    }
   ],
   "source": [
    "print(f\"filtered : {filtered_Sent}\")"
   ]
  },
  {
   "cell_type": "code",
   "execution_count": null,
   "id": "ba30d64f",
   "metadata": {},
   "outputs": [],
   "source": []
  }
 ],
 "metadata": {
  "kernelspec": {
   "display_name": "Python 3 (ipykernel)",
   "language": "python",
   "name": "python3"
  },
  "language_info": {
   "codemirror_mode": {
    "name": "ipython",
    "version": 3
   },
   "file_extension": ".py",
   "mimetype": "text/x-python",
   "name": "python",
   "nbconvert_exporter": "python",
   "pygments_lexer": "ipython3",
   "version": "3.11.4"
  }
 },
 "nbformat": 4,
 "nbformat_minor": 5
}
