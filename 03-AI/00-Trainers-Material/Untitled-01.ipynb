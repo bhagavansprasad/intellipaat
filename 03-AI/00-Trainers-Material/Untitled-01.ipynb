{
 "cells": [
  {
   "cell_type": "code",
   "execution_count": 1,
   "id": "9926e2ec",
   "metadata": {},
   "outputs": [
    {
     "name": "stderr",
     "output_type": "stream",
     "text": [
      "[nltk_data] Downloading package punkt to\n",
      "[nltk_data]     /Users/parthsharma/nltk_data...\n",
      "[nltk_data]   Package punkt is already up-to-date!\n"
     ]
    },
    {
     "data": {
      "text/plain": [
       "True"
      ]
     },
     "execution_count": 1,
     "metadata": {},
     "output_type": "execute_result"
    }
   ],
   "source": [
    "import nltk\n",
    "from nltk.corpus import stopwords\n",
    "from nltk.tokenize import word_tokenize\n",
    "\n",
    "nltk.download(\"punkt\")\n",
    "nltk.download(\"stopwords\")"
   ]
  },
  {
   "cell_type": "code",
   "execution_count": 2,
   "id": "63db6766",
   "metadata": {},
   "outputs": [],
   "source": [
    "text = \"i am taking a simple example of a document here to show how exactly does stopword removal works\""
   ]
  },
  {
   "cell_type": "code",
   "execution_count": 3,
   "id": "b2d5e5ac",
   "metadata": {},
   "outputs": [],
   "source": [
    "words = word_tokenize(text)\n",
    "stopwords = set(stopwords.words('english'))\n",
    "\n",
    "filtered_Sent = [word for word in words if word.lower() not in stopwords]"
   ]
  },
  {
   "cell_type": "code",
   "execution_count": 4,
   "id": "737af6c0",
   "metadata": {},
   "outputs": [
    {
     "name": "stdout",
     "output_type": "stream",
     "text": [
      "orginal : ['i', 'am', 'taking', 'a', 'simple', 'example', 'of', 'a', 'document', 'here', 'to', 'show', 'how', 'exactly', 'does', 'stopword', 'removal', 'works']\n"
     ]
    }
   ],
   "source": [
    "print(f\"orginal : {words}\")"
   ]
  },
  {
   "cell_type": "code",
   "execution_count": 5,
   "id": "287509f6",
   "metadata": {},
   "outputs": [
    {
     "name": "stdout",
     "output_type": "stream",
     "text": [
      "filtered : ['taking', 'simple', 'example', 'document', 'show', 'exactly', 'stopword', 'removal', 'works']\n"
     ]
    }
   ],
   "source": [
    "print(f\"filtered : {filtered_Sent}\")"
   ]
  },
  {
   "cell_type": "code",
   "execution_count": null,
   "id": "aba81a84",
   "metadata": {},
   "outputs": [],
   "source": [
    "Action : Set of all possible actions your agent can take\n",
    "State  : Current situation of the environment (Agent placement)   (safe, not safe, modely safe, very unsafe)\n",
    "Policy : strategy used by the agent or agents to decide what actions are to be \n",
    "    taken based on my initial or current state\n"
   ]
  },
  {
   "cell_type": "code",
   "execution_count": null,
   "id": "8c4db3d0",
   "metadata": {},
   "outputs": [],
   "source": [
    "Machine - Feature eng    - ypourself\n",
    "1) Feature selection - IDdnty the most impo freatures in your data set\n",
    "2) Feature transformation - transformting yourt data in to a iff type\n",
    "3) feature creation/deletion - PCA - dimentionality reduction / LDA  (t-sne,FA, Autoencoders, ICA, ETC)\n",
    "\n",
    "\n",
    "N/S, Ecding, nan,null, Bucketin/binning/ ffm, ffe"
   ]
  },
  {
   "cell_type": "code",
   "execution_count": 6,
   "id": "25371c6c",
   "metadata": {},
   "outputs": [],
   "source": [
    "# Deep learning - NO feature eng\n",
    "# # "
   ]
  },
  {
   "cell_type": "code",
   "execution_count": 7,
   "id": "c15eea5d",
   "metadata": {},
   "outputs": [],
   "source": [
    "#Deep learning\n"
   ]
  },
  {
   "cell_type": "code",
   "execution_count": 10,
   "id": "fac29715",
   "metadata": {},
   "outputs": [],
   "source": [
    "import numpy as np\n",
    "\n",
    "#features \n",
    "X = np.array([7,2,25])\n",
    "actual = 85\n",
    "\n",
    "# X1 = X[0]\n",
    "# X2 = X[1]\n",
    "# X3 = X[2]\n",
    "\n",
    "#this is assigned randonmly but i have written in manually\n",
    "W1, W2 = 0.1,0.16\n",
    "W3, W4 = 0.1,0.5\n",
    "W5, W6 = 0.1, 0.6\n",
    "W7, W8 = 7, 3\n",
    "b1, b2 = -4, -4\n",
    "b3 = 12\n",
    "\n",
    "#Activation function - sigmoid\n",
    "\n",
    "def sigmoid(x):\n",
    "    return 1 / (1 + np.exp(-x))\n",
    "\n",
    "\n",
    "def forward_propogation(X):\n",
    "    #Summation\n",
    "    Z1 = W1 * X[0] + W3 * X[1] + W5 * X[2] + b1\n",
    "    Z2 = W2 * X[0] + W4 * X[1] + W6 * X[2] + b2\n",
    "    \n",
    "    #second step = using activation function\n",
    "    G1 = sigmoid(Z1)\n",
    "    G2 = sigmoid(Z2)\n",
    "    \n",
    "    y_pred = W7 * G1 + W8 * G2 + b3\n",
    "    \n",
    "    return G1, G2, y_pred"
   ]
  },
  {
   "cell_type": "code",
   "execution_count": 11,
   "id": "986823ec",
   "metadata": {},
   "outputs": [],
   "source": [
    "G1, G2, y_pred = forward_propogation(X)"
   ]
  },
  {
   "cell_type": "code",
   "execution_count": 19,
   "id": "380f50d4",
   "metadata": {},
   "outputs": [
    {
     "name": "stdout",
     "output_type": "stream",
     "text": [
      "First Layer\n",
      "Z1 = 0.1*7 + 0.1*2 + 0.1*25 + -4\n",
      "Z1 = -0.5999999999999996\n",
      "G1 : 0.35434369377420466\n",
      "============================================================\n",
      "Z2 = 0.16*7 + 0.5*2 + 0.6*25 + -4\n",
      "Z2 = 13.120000000000001\n",
      "G2 : 0.9999979952716741\n",
      "============================================================\n",
      "Final Layer\n",
      "y_pred : 7 * G1 + 3 * G2 + 12\n",
      "y_pred : 7 * 0.35434369377420466 + 3 * 0.9999979952716741 + 12\n",
      "y_pred : 17.480399842234455\n",
      "============================================================\n",
      "Actual value : 85\n",
      "Predicted Value : 17.480399842234455\n",
      "Cost : 67.51960015776555\n"
     ]
    }
   ],
   "source": [
    "#print \n",
    "print(\"First Layer\")\n",
    "print(f\"Z1 = {W1}*{X[0]} + {W3}*{X[1]} + {W5}*{X[2]} + {b1}\")\n",
    "print(f\"Z1 = {W1 * X[0] + W3 * X[1] + W5 * X[2] + b1}\")\n",
    "print(f\"G1 : {G1}\")\n",
    "print(\"===\"*20)\n",
    "print(f\"Z2 = {W2}*{X[0]} + {W4}*{X[1]} + {W6}*{X[2]} + {b2}\")\n",
    "print(f\"Z2 = {W2 * X[0] + W4 * X[1] + W6 * X[2] + b2}\")\n",
    "print(f\"G2 : {G2}\")\n",
    "print(\"===\"*20)\n",
    "print(\"Final Layer\")\n",
    "print(f\"y_pred : {W7} * G1 + {W8} * G2 + {b3}\")\n",
    "print(f\"y_pred : {W7} * {G1} + {W8} * {G2} + {b3}\")\n",
    "print(f\"y_pred : {y_pred}\")\n",
    "\n",
    "print(\"===\"*20)\n",
    "diff = actual - y_pred\n",
    "print(f\"Actual value : {actual}\")\n",
    "print(f\"Predicted Value : {y_pred}\")\n",
    "print(f\"Cost : {diff}\")"
   ]
  },
  {
   "cell_type": "code",
   "execution_count": 20,
   "id": "1a0e9f31",
   "metadata": {},
   "outputs": [
    {
     "data": {
      "text/plain": [
       "-1513.1839197628888"
      ]
     },
     "execution_count": 20,
     "metadata": {},
     "output_type": "execute_result"
    }
   ],
   "source": [
    "# 2*(17.480399842234455 - 85)  *  7 * (0.354 * (1-0.354)) * 7"
   ]
  },
  {
   "cell_type": "code",
   "execution_count": null,
   "id": "d44f5346",
   "metadata": {},
   "outputs": [],
   "source": []
  }
 ],
 "metadata": {
  "kernelspec": {
   "display_name": "Python 3 (ipykernel)",
   "language": "python",
   "name": "python3"
  },
  "language_info": {
   "codemirror_mode": {
    "name": "ipython",
    "version": 3
   },
   "file_extension": ".py",
   "mimetype": "text/x-python",
   "name": "python",
   "nbconvert_exporter": "python",
   "pygments_lexer": "ipython3",
   "version": "3.11.4"
  }
 },
 "nbformat": 4,
 "nbformat_minor": 5
}
